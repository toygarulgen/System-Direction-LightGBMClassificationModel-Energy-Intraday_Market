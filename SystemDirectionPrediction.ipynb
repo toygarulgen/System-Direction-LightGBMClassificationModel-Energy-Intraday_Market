{
 "cells": [
  {
   "cell_type": "code",
   "execution_count": 1,
   "id": "de50534e",
   "metadata": {},
   "outputs": [],
   "source": [
    "from sklearn.metrics import average_precision_score, precision_recall_curve, roc_curve, confusion_matrix, auc\n",
    "from seffaflik.elektrik.piyasalar import dgp, gop\n",
    "from sklearn.model_selection import GridSearchCV\n",
    "from sklearn.model_selection import TimeSeriesSplit\n",
    "from sklearn.preprocessing import MinMaxScaler\n",
    "from datetime import datetime, timedelta\n",
    "from seffaflik.elektrik import uretim\n",
    "from lightgbm.sklearn import LGBMClassifier\n",
    "import matplotlib.pyplot as plt\n",
    "from sklearn import metrics\n",
    "import seaborn as sns\n",
    "import pandas as pd\n",
    "import numpy as np\n",
    "import requests\n",
    "import json\n",
    "from smtplib import SMTP\n",
    "from email.mime.multipart import MIMEMultipart\n",
    "from email.mime.base import MIMEBase\n",
    "from email.mime.text import MIMEText\n",
    "from email.utils import formatdate\n",
    "from email import encoders"
   ]
  },
  {
   "cell_type": "code",
   "execution_count": 2,
   "id": "a5a308f3",
   "metadata": {},
   "outputs": [],
   "source": [
    "#%% Initialize LightGBMClassifier\n",
    "\n",
    "def LGBClassifier(X_train,y_train,X_test):\n",
    "    \n",
    "    space = {'learning_rate': [0.01, 0.1, 0.2, 0.3],\n",
    "             'max_depth': np.arange(1, 20, 4),\n",
    "             'n_estimators': np.arange(5, 100, 20),\n",
    "             'num_leaves': np.arange(5, 50, 10),\n",
    "             'min_child_weight': [6, 8],\n",
    "             'reg_lambda': [0.0, 1.0]\n",
    "             }\n",
    "\n",
    "    gsearch1 = GridSearchCV(estimator = LGBMClassifier(), param_grid = space, n_jobs=-1, scoring='accuracy')\n",
    "    gsearch1.fit(X_train,y_train)\n",
    "    # Printing best parameters\n",
    "    print(gsearch1.best_params_)\n",
    "    print(gsearch1.best_score_)\n",
    "    Xgbpred = gsearch1.predict(X_test)\n",
    "    return gsearch1, Xgbpred\n"
   ]
  },
  {
   "cell_type": "code",
   "execution_count": 3,
   "id": "56a6c90f",
   "metadata": {},
   "outputs": [],
   "source": [
    "#%% Initialize ConfusionMatrix\n",
    "\n",
    "def plot_cm(classifier, predictions):\n",
    "    cm = confusion_matrix(y_val, predictions)\n",
    "    \n",
    "    plt.clf()\n",
    "    plt.imshow(cm, interpolation='nearest', cmap='RdBu')\n",
    "    classNames = ['YAT','YAL']\n",
    "    plt.ylabel('True label')\n",
    "    plt.xlabel('Predicted label')\n",
    "    tick_marks = np.arange(len(classNames))\n",
    "    plt.xticks(tick_marks, classNames, rotation=45)\n",
    "    plt.yticks(tick_marks, classNames)\n",
    "    s = [['TN','FP'], ['FN', 'TP']]\n",
    "    \n",
    "    for i in range(2):\n",
    "        for j in range(2):\n",
    "            plt.text(j,i, str(s[i][j])+\" = \"+str(cm[i][j]), \n",
    "                     horizontalalignment='center', color='White')\n",
    "    \n",
    "    plt.show()\n",
    "        \n",
    "    tn, fp, fn, tp = cm.ravel()\n",
    "\n",
    "    recall = tp / (tp + fn)\n",
    "    precision = tp / (tp + fp)\n",
    "    F1 = 2*recall*precision/(recall+precision)\n",
    "\n",
    "    print('Recall={0:0.3f}'.format(recall),'\\nPrecision={0:0.3f}'.format(precision))\n",
    "    print('F1 Score={0:0.3f}'.format(F1))"
   ]
  },
  {
   "cell_type": "code",
   "execution_count": 4,
   "id": "12358c14",
   "metadata": {},
   "outputs": [],
   "source": [
    "#%% Initialize AUC\n",
    "\n",
    "def plot_aucprc(y_val, pred):\n",
    "    \n",
    "    fpr, tpr, thresholds_en = roc_curve(y_val, pred)\n",
    "    roc_auc_result = auc(fpr, tpr)\n",
    "    precision, recall, th = precision_recall_curve(y_val, pred)\n",
    "    average_precision = average_precision_score(y_val, pred)\n",
    "\n",
    "    print('Average precision-recall score: {0:0.3f}'.format(average_precision))\n",
    "    print('AUC Score:', roc_auc_result)\n",
    "    \n",
    "    #Plotting\n",
    "    plt.plot([0, 1], [0, 1], 'k--')\n",
    "    plt.plot(fpr, tpr, label='area = %0.3f' % roc_auc_result)\n",
    "    plt.xlabel('False Positive Rate')\n",
    "    plt.ylabel('True Positive Rate')\n",
    "    plt.title('ROC curve')\n",
    "    plt.legend(loc='best')\n",
    "    plt.show()\n",
    "    \n",
    "    return roc_auc_result"
   ]
  },
  {
   "cell_type": "code",
   "execution_count": 5,
   "id": "1b7df723",
   "metadata": {},
   "outputs": [],
   "source": [
    "#%%####################################\n",
    "############ DATA CURATION ############\n",
    "#######################################\n",
    "\n",
    "# Creating DateTime\n",
    "today = datetime.today().strftime('%Y-%m-%d')\n",
    "tomorrow = (datetime.now() + timedelta(1)).strftime('%Y-%m-%d')\n",
    "tomorrow2 = (datetime.now() + timedelta(2)).strftime('%Y-%m-%d')\n",
    "yesterday = (datetime.today() - timedelta(days=1)).strftime('%Y-%m-%d')\n",
    "\n",
    "rng = pd.date_range(pd.to_datetime('2019-03-05'), pd.to_datetime('2021-05-05'), freq='H')\n",
    "rng = pd.DataFrame(rng[0:-1]).set_axis(['DateTime'], axis=1)\n",
    "\n",
    "rng_test = pd.date_range(tomorrow, tomorrow2, freq='H')\n",
    "rng_test = pd.DataFrame(rng_test[0:-1]).set_axis(['DateTime'], axis=1)"
   ]
  },
  {
   "cell_type": "code",
   "execution_count": 6,
   "id": "2ec4a9e4",
   "metadata": {},
   "outputs": [
    {
     "data": {
      "text/html": [
       "<div>\n",
       "<style scoped>\n",
       "    .dataframe tbody tr th:only-of-type {\n",
       "        vertical-align: middle;\n",
       "    }\n",
       "\n",
       "    .dataframe tbody tr th {\n",
       "        vertical-align: top;\n",
       "    }\n",
       "\n",
       "    .dataframe thead th {\n",
       "        text-align: right;\n",
       "    }\n",
       "</style>\n",
       "<table border=\"1\" class=\"dataframe\">\n",
       "  <thead>\n",
       "    <tr style=\"text-align: right;\">\n",
       "      <th></th>\n",
       "      <th>DateTime</th>\n",
       "      <th>generation</th>\n",
       "    </tr>\n",
       "  </thead>\n",
       "  <tbody>\n",
       "    <tr>\n",
       "      <th>0</th>\n",
       "      <td>2019-03-05 00:00:00</td>\n",
       "      <td>653.453</td>\n",
       "    </tr>\n",
       "    <tr>\n",
       "      <th>1</th>\n",
       "      <td>2019-03-05 01:00:00</td>\n",
       "      <td>824.797</td>\n",
       "    </tr>\n",
       "    <tr>\n",
       "      <th>2</th>\n",
       "      <td>2019-03-05 02:00:00</td>\n",
       "      <td>892.950</td>\n",
       "    </tr>\n",
       "    <tr>\n",
       "      <th>3</th>\n",
       "      <td>2019-03-05 03:00:00</td>\n",
       "      <td>973.000</td>\n",
       "    </tr>\n",
       "    <tr>\n",
       "      <th>4</th>\n",
       "      <td>2019-03-05 04:00:00</td>\n",
       "      <td>1071.253</td>\n",
       "    </tr>\n",
       "  </tbody>\n",
       "</table>\n",
       "</div>"
      ],
      "text/plain": [
       "             DateTime  generation\n",
       "0 2019-03-05 00:00:00     653.453\n",
       "1 2019-03-05 01:00:00     824.797\n",
       "2 2019-03-05 02:00:00     892.950\n",
       "3 2019-03-05 03:00:00     973.000\n",
       "4 2019-03-05 04:00:00    1071.253"
      ]
     },
     "execution_count": 6,
     "metadata": {},
     "output_type": "execute_result"
    }
   ],
   "source": [
    "#%% RES Tahmin\n",
    "def get_WindGenerationForecast(start_date, end_date, value):\n",
    "    down = './test.json'\n",
    "    url = 'https://seffaflik.epias.com.tr/transparency/service/production/wpp-generation-and-forecast?endDate={}&startDate={}'.format(end_date,start_date)\n",
    "    outpath=down\n",
    "    generatedURL=url\n",
    "    response = requests.get(generatedURL)\n",
    "    if response.status_code == 200:\n",
    "        with open(outpath, \"wb\") as out:\n",
    "            for chunk in response.iter_content(chunk_size=128):\n",
    "                out.write(chunk)\n",
    "    with open(down) as json_file:\n",
    "        data = json.load(json_file)\n",
    "    body=data.get('body')\n",
    "    gen=body.get('data')\n",
    "    df=pd.DataFrame(gen)\n",
    "    df['DateTime'] = pd.to_datetime(df['effectiveDate']).dt.strftime('%Y-%m-%d %H:%M:%S')\n",
    "    df[\"DateTime\"] = df[\"DateTime\"].astype(\"datetime64[ns]\")\n",
    "    df = df.set_index('DateTime')\n",
    "    df = pd.DataFrame(df[value])\n",
    "    df = df.reset_index()\n",
    "    return df\n",
    "\n",
    "wind_train = get_WindGenerationForecast('2019-03-05', '2021-05-04', \"generation\")\n",
    "wind_train.head()\n"
   ]
  },
  {
   "cell_type": "code",
   "execution_count": 7,
   "id": "ce419b6c",
   "metadata": {},
   "outputs": [
    {
     "data": {
      "text/html": [
       "<div>\n",
       "<style scoped>\n",
       "    .dataframe tbody tr th:only-of-type {\n",
       "        vertical-align: middle;\n",
       "    }\n",
       "\n",
       "    .dataframe tbody tr th {\n",
       "        vertical-align: top;\n",
       "    }\n",
       "\n",
       "    .dataframe thead th {\n",
       "        text-align: right;\n",
       "    }\n",
       "</style>\n",
       "<table border=\"1\" class=\"dataframe\">\n",
       "  <thead>\n",
       "    <tr style=\"text-align: right;\">\n",
       "      <th></th>\n",
       "      <th>SMF</th>\n",
       "      <th>Sistem Yönü</th>\n",
       "    </tr>\n",
       "    <tr>\n",
       "      <th>DateTime</th>\n",
       "      <th></th>\n",
       "      <th></th>\n",
       "    </tr>\n",
       "  </thead>\n",
       "  <tbody>\n",
       "    <tr>\n",
       "      <th>2019-03-05 00:00:00</th>\n",
       "      <td>288.48</td>\n",
       "      <td>0.0</td>\n",
       "    </tr>\n",
       "    <tr>\n",
       "      <th>2019-03-05 01:00:00</th>\n",
       "      <td>290.00</td>\n",
       "      <td>0.0</td>\n",
       "    </tr>\n",
       "    <tr>\n",
       "      <th>2019-03-05 02:00:00</th>\n",
       "      <td>284.63</td>\n",
       "      <td>NaN</td>\n",
       "    </tr>\n",
       "    <tr>\n",
       "      <th>2019-03-05 03:00:00</th>\n",
       "      <td>280.00</td>\n",
       "      <td>NaN</td>\n",
       "    </tr>\n",
       "    <tr>\n",
       "      <th>2019-03-05 04:00:00</th>\n",
       "      <td>223.32</td>\n",
       "      <td>NaN</td>\n",
       "    </tr>\n",
       "  </tbody>\n",
       "</table>\n",
       "</div>"
      ],
      "text/plain": [
       "                        SMF  Sistem Yönü\n",
       "DateTime                                \n",
       "2019-03-05 00:00:00  288.48          0.0\n",
       "2019-03-05 01:00:00  290.00          0.0\n",
       "2019-03-05 02:00:00  284.63          NaN\n",
       "2019-03-05 03:00:00  280.00          NaN\n",
       "2019-03-05 04:00:00  223.32          NaN"
      ]
     },
     "execution_count": 7,
     "metadata": {},
     "output_type": "execute_result"
    }
   ],
   "source": [
    "#%% SMF VE SİSTEM YÖNÜ\n",
    "def get_smf(start_date, end_date):\n",
    "    smf1 = dgp.smf(baslangic_tarihi = start_date, bitis_tarihi = end_date)\n",
    "    smf1['DateTime'] = pd.to_datetime(smf1.Tarih) + smf1.Saat.astype('timedelta64[h]')\n",
    "    smf1 = smf1.set_index('DateTime')\n",
    "\n",
    "    dictionary = {\"YAL\" : 1, \"DNG\" : np.nan, \"YAT\" : 0}\n",
    "    smf1 = smf1.replace({'Sistem Yönü': dictionary})\n",
    "    smf1 = smf1.drop(['Tarih','Saat'], axis = 1)\n",
    "    return smf1\n",
    "\n",
    "smf_train = get_smf('2019-03-05', '2021-05-04')\n",
    "smf_train.head()\n"
   ]
  },
  {
   "cell_type": "code",
   "execution_count": 8,
   "id": "25864a7b",
   "metadata": {},
   "outputs": [
    {
     "data": {
      "text/html": [
       "<div>\n",
       "<style scoped>\n",
       "    .dataframe tbody tr th:only-of-type {\n",
       "        vertical-align: middle;\n",
       "    }\n",
       "\n",
       "    .dataframe tbody tr th {\n",
       "        vertical-align: top;\n",
       "    }\n",
       "\n",
       "    .dataframe thead th {\n",
       "        text-align: right;\n",
       "    }\n",
       "</style>\n",
       "<table border=\"1\" class=\"dataframe\">\n",
       "  <thead>\n",
       "    <tr style=\"text-align: right;\">\n",
       "      <th></th>\n",
       "      <th>PTF</th>\n",
       "    </tr>\n",
       "    <tr>\n",
       "      <th>DateTime</th>\n",
       "      <th></th>\n",
       "    </tr>\n",
       "  </thead>\n",
       "  <tbody>\n",
       "    <tr>\n",
       "      <th>2019-03-05 00:00:00</th>\n",
       "      <td>288.48</td>\n",
       "    </tr>\n",
       "    <tr>\n",
       "      <th>2019-03-05 01:00:00</th>\n",
       "      <td>290.49</td>\n",
       "    </tr>\n",
       "    <tr>\n",
       "      <th>2019-03-05 02:00:00</th>\n",
       "      <td>284.63</td>\n",
       "    </tr>\n",
       "    <tr>\n",
       "      <th>2019-03-05 03:00:00</th>\n",
       "      <td>280.00</td>\n",
       "    </tr>\n",
       "    <tr>\n",
       "      <th>2019-03-05 04:00:00</th>\n",
       "      <td>223.32</td>\n",
       "    </tr>\n",
       "  </tbody>\n",
       "</table>\n",
       "</div>"
      ],
      "text/plain": [
       "                        PTF\n",
       "DateTime                   \n",
       "2019-03-05 00:00:00  288.48\n",
       "2019-03-05 01:00:00  290.49\n",
       "2019-03-05 02:00:00  284.63\n",
       "2019-03-05 03:00:00  280.00\n",
       "2019-03-05 04:00:00  223.32"
      ]
     },
     "execution_count": 8,
     "metadata": {},
     "output_type": "execute_result"
    }
   ],
   "source": [
    "#%% PTF \n",
    "def get_ptf(start_date, end_date):\n",
    "    ptf1 = gop.ptf(baslangic_tarihi = start_date, bitis_tarihi = end_date)\n",
    "    ptf1['DateTime'] = pd.to_datetime(ptf1.Tarih) + ptf1.Saat.astype('timedelta64[h]')\n",
    "    ptf1 = ptf1.set_index('DateTime')\n",
    "    ptf1 = pd.DataFrame(ptf1['PTF'])\n",
    "    return ptf1\n",
    "\n",
    "ptf_train = get_ptf('2019-03-05', '2021-05-04')\n",
    "ptf_train.head()\n"
   ]
  },
  {
   "cell_type": "code",
   "execution_count": 9,
   "id": "123d955e",
   "metadata": {},
   "outputs": [
    {
     "data": {
      "text/html": [
       "<div>\n",
       "<style scoped>\n",
       "    .dataframe tbody tr th:only-of-type {\n",
       "        vertical-align: middle;\n",
       "    }\n",
       "\n",
       "    .dataframe tbody tr th {\n",
       "        vertical-align: top;\n",
       "    }\n",
       "\n",
       "    .dataframe thead th {\n",
       "        text-align: right;\n",
       "    }\n",
       "</style>\n",
       "<table border=\"1\" class=\"dataframe\">\n",
       "  <thead>\n",
       "    <tr style=\"text-align: right;\">\n",
       "      <th></th>\n",
       "      <th>KGUP</th>\n",
       "    </tr>\n",
       "    <tr>\n",
       "      <th>DateTime</th>\n",
       "      <th></th>\n",
       "    </tr>\n",
       "  </thead>\n",
       "  <tbody>\n",
       "    <tr>\n",
       "      <th>2019-03-05 00:00:00</th>\n",
       "      <td>29266.73</td>\n",
       "    </tr>\n",
       "    <tr>\n",
       "      <th>2019-03-05 01:00:00</th>\n",
       "      <td>26959.48</td>\n",
       "    </tr>\n",
       "    <tr>\n",
       "      <th>2019-03-05 02:00:00</th>\n",
       "      <td>26068.73</td>\n",
       "    </tr>\n",
       "    <tr>\n",
       "      <th>2019-03-05 03:00:00</th>\n",
       "      <td>25270.18</td>\n",
       "    </tr>\n",
       "    <tr>\n",
       "      <th>2019-03-05 04:00:00</th>\n",
       "      <td>25000.15</td>\n",
       "    </tr>\n",
       "  </tbody>\n",
       "</table>\n",
       "</div>"
      ],
      "text/plain": [
       "                         KGUP\n",
       "DateTime                     \n",
       "2019-03-05 00:00:00  29266.73\n",
       "2019-03-05 01:00:00  26959.48\n",
       "2019-03-05 02:00:00  26068.73\n",
       "2019-03-05 03:00:00  25270.18\n",
       "2019-03-05 04:00:00  25000.15"
      ]
     },
     "execution_count": 9,
     "metadata": {},
     "output_type": "execute_result"
    }
   ],
   "source": [
    "#%% KGÜP\n",
    "def get_kgup(start_date, end_date):\n",
    "    kgup2 = uretim.kgup(baslangic_tarihi = start_date, bitis_tarihi = end_date)\n",
    "    kgup2['DateTime'] = pd.to_datetime(kgup2.Tarih) + kgup2.Saat.astype('timedelta64[h]')\n",
    "    kgup2 = kgup2.set_index('DateTime')\n",
    "    kgup2 = pd.DataFrame(kgup2['Toplam'])\n",
    "    kgup2.columns = ['KGUP']\n",
    "    return kgup2\n",
    "\n",
    "kgup_train = get_kgup('2019-03-05', '2021-05-04')\n",
    "kgup_train.head()\n"
   ]
  },
  {
   "cell_type": "code",
   "execution_count": 10,
   "id": "fc468c78",
   "metadata": {},
   "outputs": [
    {
     "data": {
      "text/html": [
       "<div>\n",
       "<style scoped>\n",
       "    .dataframe tbody tr th:only-of-type {\n",
       "        vertical-align: middle;\n",
       "    }\n",
       "\n",
       "    .dataframe tbody tr th {\n",
       "        vertical-align: top;\n",
       "    }\n",
       "\n",
       "    .dataframe thead th {\n",
       "        text-align: right;\n",
       "    }\n",
       "</style>\n",
       "<table border=\"1\" class=\"dataframe\">\n",
       "  <thead>\n",
       "    <tr style=\"text-align: right;\">\n",
       "      <th></th>\n",
       "      <th>EAK</th>\n",
       "    </tr>\n",
       "    <tr>\n",
       "      <th>DateTime</th>\n",
       "      <th></th>\n",
       "    </tr>\n",
       "  </thead>\n",
       "  <tbody>\n",
       "    <tr>\n",
       "      <th>2019-03-05 00:00:00</th>\n",
       "      <td>57640.72</td>\n",
       "    </tr>\n",
       "    <tr>\n",
       "      <th>2019-03-05 01:00:00</th>\n",
       "      <td>57743.55</td>\n",
       "    </tr>\n",
       "    <tr>\n",
       "      <th>2019-03-05 02:00:00</th>\n",
       "      <td>57751.95</td>\n",
       "    </tr>\n",
       "    <tr>\n",
       "      <th>2019-03-05 03:00:00</th>\n",
       "      <td>57998.47</td>\n",
       "    </tr>\n",
       "    <tr>\n",
       "      <th>2019-03-05 04:00:00</th>\n",
       "      <td>58041.89</td>\n",
       "    </tr>\n",
       "  </tbody>\n",
       "</table>\n",
       "</div>"
      ],
      "text/plain": [
       "                          EAK\n",
       "DateTime                     \n",
       "2019-03-05 00:00:00  57640.72\n",
       "2019-03-05 01:00:00  57743.55\n",
       "2019-03-05 02:00:00  57751.95\n",
       "2019-03-05 03:00:00  57998.47\n",
       "2019-03-05 04:00:00  58041.89"
      ]
     },
     "execution_count": 10,
     "metadata": {},
     "output_type": "execute_result"
    }
   ],
   "source": [
    "#%% EAK\n",
    "def get_eak(start_date, end_date):\n",
    "    eak2 = uretim.eak(baslangic_tarihi = start_date, bitis_tarihi = end_date)\n",
    "    eak2['DateTime'] = pd.to_datetime(eak2.Tarih) + eak2.Saat.astype('timedelta64[h]')\n",
    "    eak2 = eak2.set_index('DateTime')\n",
    "    eak2 = pd.DataFrame(eak2['Toplam'])\n",
    "    eak2.columns = ['EAK']\n",
    "    return eak2\n",
    "\n",
    "eak_train = get_eak('2019-03-05', '2021-05-04')\n",
    "eak_train.head()\n"
   ]
  },
  {
   "cell_type": "code",
   "execution_count": 11,
   "id": "9dbf35b2",
   "metadata": {},
   "outputs": [],
   "source": [
    "#%% MERGING\n",
    "\n",
    "wind_train = pd.merge(wind_train, rng, on=\"DateTime\", how=\"outer\")\n",
    "df = pd.merge(smf_train, wind_train, on=\"DateTime\", how=\"outer\")\n",
    "df = pd.merge(df, ptf_train, on=\"DateTime\", how=\"outer\")\n",
    "df = pd.merge(df, kgup_train, on=\"DateTime\", how=\"outer\")\n",
    "df = pd.merge(df, eak_train, on=\"DateTime\", how=\"outer\")\n",
    "\n",
    "df['hour'] = pd.DatetimeIndex(df['DateTime']).hour\n",
    "df['day'] = pd.DatetimeIndex(df['DateTime']).day\n",
    "df['month'] = pd.DatetimeIndex(df['DateTime']).month\n",
    "df['dayofweek'] = pd.DatetimeIndex(df['DateTime']).dayofweek"
   ]
  },
  {
   "cell_type": "code",
   "execution_count": 12,
   "id": "de62ab2e",
   "metadata": {},
   "outputs": [],
   "source": [
    "#%% Supply Demand\n",
    "\n",
    "supplydemand = pd.read_excel('YönTahminVerisi.xlsx',index_col='DateTime',parse_dates=True)\n",
    "supplydemand = supplydemand.loc['2019-03-05':'2021-05-04']\n",
    "supplydemand = supplydemand.drop(['wind','ptf','smf','temp','gun_tipi','pbs'], axis = 1)\n",
    "supplydemand = supplydemand.reset_index(drop=False)\n",
    "\n",
    "df = pd.merge(df, supplydemand, on=\"DateTime\", how=\"outer\")"
   ]
  },
  {
   "cell_type": "code",
   "execution_count": 13,
   "id": "92fc4314",
   "metadata": {},
   "outputs": [
    {
     "name": "stdout",
     "output_type": "stream",
     "text": [
      "(19008, 13)\n",
      "Percentage of missing values in each column:\n",
      " DateTime       0.000000\n",
      "SMF            0.000000\n",
      "Sistem Yönü    4.398148\n",
      "generation     1.972854\n",
      "PTF            0.000000\n",
      "KGUP           0.000000\n",
      "EAK            0.000000\n",
      "hour           0.000000\n",
      "day            0.000000\n",
      "month          0.000000\n",
      "dayofweek      0.000000\n",
      "demand         0.000000\n",
      "supply         0.000000\n",
      "dtype: float64\n",
      "(17810, 13)\n"
     ]
    }
   ],
   "source": [
    "\"\"\"Analyzing missing values in data\"\"\"\n",
    "print(df.shape)\n",
    "df.isnull().sum()\n",
    "percent_missing = df.isnull(). sum() * 100 / len(df)\n",
    "print(\"Percentage of missing values in each column:\\n\",percent_missing)\n",
    "df = df.dropna(axis='rows')\n",
    "print(df.shape)"
   ]
  },
  {
   "cell_type": "code",
   "execution_count": 14,
   "id": "26df1826",
   "metadata": {},
   "outputs": [
    {
     "name": "stdout",
     "output_type": "stream",
     "text": [
      "Index(['DateTime', 'SMF', 'Sistem Yönü', 'generation', 'PTF', 'KGUP', 'EAK',\n",
      "       'hour', 'day', 'month', 'dayofweek', 'demand', 'supply'],\n",
      "      dtype='object')\n"
     ]
    }
   ],
   "source": [
    "\"\"\"Checking columns names\"\"\"\n",
    "print(df.columns)"
   ]
  },
  {
   "cell_type": "code",
   "execution_count": 15,
   "id": "d2bf76e6",
   "metadata": {},
   "outputs": [
    {
     "data": {
      "text/html": [
       "<div>\n",
       "<style scoped>\n",
       "    .dataframe tbody tr th:only-of-type {\n",
       "        vertical-align: middle;\n",
       "    }\n",
       "\n",
       "    .dataframe tbody tr th {\n",
       "        vertical-align: top;\n",
       "    }\n",
       "\n",
       "    .dataframe thead th {\n",
       "        text-align: right;\n",
       "    }\n",
       "</style>\n",
       "<table border=\"1\" class=\"dataframe\">\n",
       "  <thead>\n",
       "    <tr style=\"text-align: right;\">\n",
       "      <th></th>\n",
       "      <th>DateTime</th>\n",
       "      <th>SMF</th>\n",
       "      <th>Sistem Yönü</th>\n",
       "      <th>generation</th>\n",
       "      <th>PTF</th>\n",
       "      <th>KGUP</th>\n",
       "      <th>EAK</th>\n",
       "      <th>hour</th>\n",
       "      <th>day</th>\n",
       "      <th>month</th>\n",
       "      <th>dayofweek</th>\n",
       "      <th>demand</th>\n",
       "      <th>supply</th>\n",
       "    </tr>\n",
       "  </thead>\n",
       "  <tbody>\n",
       "    <tr>\n",
       "      <th>0</th>\n",
       "      <td>2019-03-05 00:00:00</td>\n",
       "      <td>288.48</td>\n",
       "      <td>0.0</td>\n",
       "      <td>653.453</td>\n",
       "      <td>288.48</td>\n",
       "      <td>29266.73</td>\n",
       "      <td>57640.72</td>\n",
       "      <td>0</td>\n",
       "      <td>5</td>\n",
       "      <td>3</td>\n",
       "      <td>1</td>\n",
       "      <td>31900</td>\n",
       "      <td>29266.73</td>\n",
       "    </tr>\n",
       "    <tr>\n",
       "      <th>1</th>\n",
       "      <td>2019-03-05 01:00:00</td>\n",
       "      <td>290.00</td>\n",
       "      <td>0.0</td>\n",
       "      <td>824.797</td>\n",
       "      <td>290.49</td>\n",
       "      <td>26959.48</td>\n",
       "      <td>57743.55</td>\n",
       "      <td>1</td>\n",
       "      <td>5</td>\n",
       "      <td>3</td>\n",
       "      <td>1</td>\n",
       "      <td>29800</td>\n",
       "      <td>26959.48</td>\n",
       "    </tr>\n",
       "    <tr>\n",
       "      <th>5</th>\n",
       "      <td>2019-03-05 05:00:00</td>\n",
       "      <td>280.00</td>\n",
       "      <td>0.0</td>\n",
       "      <td>1242.003</td>\n",
       "      <td>299.98</td>\n",
       "      <td>25721.17</td>\n",
       "      <td>58270.17</td>\n",
       "      <td>5</td>\n",
       "      <td>5</td>\n",
       "      <td>3</td>\n",
       "      <td>1</td>\n",
       "      <td>28300</td>\n",
       "      <td>25721.17</td>\n",
       "    </tr>\n",
       "    <tr>\n",
       "      <th>6</th>\n",
       "      <td>2019-03-05 06:00:00</td>\n",
       "      <td>267.49</td>\n",
       "      <td>0.0</td>\n",
       "      <td>1323.608</td>\n",
       "      <td>287.49</td>\n",
       "      <td>26618.48</td>\n",
       "      <td>58254.69</td>\n",
       "      <td>6</td>\n",
       "      <td>5</td>\n",
       "      <td>3</td>\n",
       "      <td>1</td>\n",
       "      <td>29900</td>\n",
       "      <td>26618.48</td>\n",
       "    </tr>\n",
       "    <tr>\n",
       "      <th>7</th>\n",
       "      <td>2019-03-05 07:00:00</td>\n",
       "      <td>295.60</td>\n",
       "      <td>0.0</td>\n",
       "      <td>1399.933</td>\n",
       "      <td>320.60</td>\n",
       "      <td>28700.24</td>\n",
       "      <td>58006.07</td>\n",
       "      <td>7</td>\n",
       "      <td>5</td>\n",
       "      <td>3</td>\n",
       "      <td>1</td>\n",
       "      <td>31800</td>\n",
       "      <td>28700.24</td>\n",
       "    </tr>\n",
       "    <tr>\n",
       "      <th>8</th>\n",
       "      <td>2019-03-05 08:00:00</td>\n",
       "      <td>285.90</td>\n",
       "      <td>0.0</td>\n",
       "      <td>1533.022</td>\n",
       "      <td>325.75</td>\n",
       "      <td>33055.83</td>\n",
       "      <td>58237.01</td>\n",
       "      <td>8</td>\n",
       "      <td>5</td>\n",
       "      <td>3</td>\n",
       "      <td>1</td>\n",
       "      <td>36000</td>\n",
       "      <td>33055.83</td>\n",
       "    </tr>\n",
       "    <tr>\n",
       "      <th>9</th>\n",
       "      <td>2019-03-05 09:00:00</td>\n",
       "      <td>290.00</td>\n",
       "      <td>0.0</td>\n",
       "      <td>1510.768</td>\n",
       "      <td>327.38</td>\n",
       "      <td>35136.10</td>\n",
       "      <td>58057.20</td>\n",
       "      <td>9</td>\n",
       "      <td>5</td>\n",
       "      <td>3</td>\n",
       "      <td>1</td>\n",
       "      <td>38800</td>\n",
       "      <td>35136.10</td>\n",
       "    </tr>\n",
       "    <tr>\n",
       "      <th>10</th>\n",
       "      <td>2019-03-05 10:00:00</td>\n",
       "      <td>280.00</td>\n",
       "      <td>0.0</td>\n",
       "      <td>1506.380</td>\n",
       "      <td>326.34</td>\n",
       "      <td>35164.57</td>\n",
       "      <td>58088.00</td>\n",
       "      <td>10</td>\n",
       "      <td>5</td>\n",
       "      <td>3</td>\n",
       "      <td>1</td>\n",
       "      <td>39000</td>\n",
       "      <td>35164.57</td>\n",
       "    </tr>\n",
       "    <tr>\n",
       "      <th>11</th>\n",
       "      <td>2019-03-05 11:00:00</td>\n",
       "      <td>270.00</td>\n",
       "      <td>0.0</td>\n",
       "      <td>1466.673</td>\n",
       "      <td>327.28</td>\n",
       "      <td>34972.66</td>\n",
       "      <td>58083.14</td>\n",
       "      <td>11</td>\n",
       "      <td>5</td>\n",
       "      <td>3</td>\n",
       "      <td>1</td>\n",
       "      <td>39300</td>\n",
       "      <td>34972.66</td>\n",
       "    </tr>\n",
       "    <tr>\n",
       "      <th>12</th>\n",
       "      <td>2019-03-05 12:00:00</td>\n",
       "      <td>270.00</td>\n",
       "      <td>0.0</td>\n",
       "      <td>1641.150</td>\n",
       "      <td>299.97</td>\n",
       "      <td>32977.97</td>\n",
       "      <td>58089.29</td>\n",
       "      <td>12</td>\n",
       "      <td>5</td>\n",
       "      <td>3</td>\n",
       "      <td>1</td>\n",
       "      <td>37600</td>\n",
       "      <td>32977.97</td>\n",
       "    </tr>\n",
       "  </tbody>\n",
       "</table>\n",
       "</div>"
      ],
      "text/plain": [
       "              DateTime     SMF  Sistem Yönü  generation     PTF      KGUP  \\\n",
       "0  2019-03-05 00:00:00  288.48          0.0     653.453  288.48  29266.73   \n",
       "1  2019-03-05 01:00:00  290.00          0.0     824.797  290.49  26959.48   \n",
       "5  2019-03-05 05:00:00  280.00          0.0    1242.003  299.98  25721.17   \n",
       "6  2019-03-05 06:00:00  267.49          0.0    1323.608  287.49  26618.48   \n",
       "7  2019-03-05 07:00:00  295.60          0.0    1399.933  320.60  28700.24   \n",
       "8  2019-03-05 08:00:00  285.90          0.0    1533.022  325.75  33055.83   \n",
       "9  2019-03-05 09:00:00  290.00          0.0    1510.768  327.38  35136.10   \n",
       "10 2019-03-05 10:00:00  280.00          0.0    1506.380  326.34  35164.57   \n",
       "11 2019-03-05 11:00:00  270.00          0.0    1466.673  327.28  34972.66   \n",
       "12 2019-03-05 12:00:00  270.00          0.0    1641.150  299.97  32977.97   \n",
       "\n",
       "         EAK  hour  day  month  dayofweek  demand    supply  \n",
       "0   57640.72     0    5      3          1   31900  29266.73  \n",
       "1   57743.55     1    5      3          1   29800  26959.48  \n",
       "5   58270.17     5    5      3          1   28300  25721.17  \n",
       "6   58254.69     6    5      3          1   29900  26618.48  \n",
       "7   58006.07     7    5      3          1   31800  28700.24  \n",
       "8   58237.01     8    5      3          1   36000  33055.83  \n",
       "9   58057.20     9    5      3          1   38800  35136.10  \n",
       "10  58088.00    10    5      3          1   39000  35164.57  \n",
       "11  58083.14    11    5      3          1   39300  34972.66  \n",
       "12  58089.29    12    5      3          1   37600  32977.97  "
      ]
     },
     "execution_count": 15,
     "metadata": {},
     "output_type": "execute_result"
    }
   ],
   "source": [
    "df.head(10)"
   ]
  },
  {
   "cell_type": "code",
   "execution_count": 16,
   "id": "3473ac4a",
   "metadata": {},
   "outputs": [
    {
     "data": {
      "text/html": [
       "<div>\n",
       "<style scoped>\n",
       "    .dataframe tbody tr th:only-of-type {\n",
       "        vertical-align: middle;\n",
       "    }\n",
       "\n",
       "    .dataframe tbody tr th {\n",
       "        vertical-align: top;\n",
       "    }\n",
       "\n",
       "    .dataframe thead th {\n",
       "        text-align: right;\n",
       "    }\n",
       "</style>\n",
       "<table border=\"1\" class=\"dataframe\">\n",
       "  <thead>\n",
       "    <tr style=\"text-align: right;\">\n",
       "      <th></th>\n",
       "      <th>DateTime</th>\n",
       "      <th>SMF</th>\n",
       "      <th>Sistem Yönü</th>\n",
       "      <th>generation</th>\n",
       "      <th>PTF</th>\n",
       "      <th>KGUP</th>\n",
       "      <th>EAK</th>\n",
       "      <th>hour</th>\n",
       "      <th>day</th>\n",
       "      <th>month</th>\n",
       "      <th>dayofweek</th>\n",
       "      <th>demand</th>\n",
       "      <th>supply</th>\n",
       "    </tr>\n",
       "  </thead>\n",
       "  <tbody>\n",
       "    <tr>\n",
       "      <th>18998</th>\n",
       "      <td>2021-05-04 14:00:00</td>\n",
       "      <td>428.61</td>\n",
       "      <td>1.0</td>\n",
       "      <td>2784.170</td>\n",
       "      <td>367.61</td>\n",
       "      <td>32627.01</td>\n",
       "      <td>57092.17</td>\n",
       "      <td>14</td>\n",
       "      <td>4</td>\n",
       "      <td>5</td>\n",
       "      <td>1</td>\n",
       "      <td>40383</td>\n",
       "      <td>32627.01</td>\n",
       "    </tr>\n",
       "    <tr>\n",
       "      <th>18999</th>\n",
       "      <td>2021-05-04 15:00:00</td>\n",
       "      <td>452.16</td>\n",
       "      <td>1.0</td>\n",
       "      <td>3007.848</td>\n",
       "      <td>364.16</td>\n",
       "      <td>32441.83</td>\n",
       "      <td>57169.32</td>\n",
       "      <td>15</td>\n",
       "      <td>4</td>\n",
       "      <td>5</td>\n",
       "      <td>1</td>\n",
       "      <td>39779</td>\n",
       "      <td>32441.83</td>\n",
       "    </tr>\n",
       "    <tr>\n",
       "      <th>19000</th>\n",
       "      <td>2021-05-04 16:00:00</td>\n",
       "      <td>449.01</td>\n",
       "      <td>1.0</td>\n",
       "      <td>3372.067</td>\n",
       "      <td>354.01</td>\n",
       "      <td>32508.01</td>\n",
       "      <td>57847.38</td>\n",
       "      <td>16</td>\n",
       "      <td>4</td>\n",
       "      <td>5</td>\n",
       "      <td>1</td>\n",
       "      <td>38784</td>\n",
       "      <td>32508.01</td>\n",
       "    </tr>\n",
       "    <tr>\n",
       "      <th>19001</th>\n",
       "      <td>2021-05-04 17:00:00</td>\n",
       "      <td>445.71</td>\n",
       "      <td>1.0</td>\n",
       "      <td>3384.877</td>\n",
       "      <td>355.71</td>\n",
       "      <td>33108.26</td>\n",
       "      <td>58090.18</td>\n",
       "      <td>17</td>\n",
       "      <td>4</td>\n",
       "      <td>5</td>\n",
       "      <td>1</td>\n",
       "      <td>37727</td>\n",
       "      <td>33108.26</td>\n",
       "    </tr>\n",
       "    <tr>\n",
       "      <th>19002</th>\n",
       "      <td>2021-05-04 18:00:00</td>\n",
       "      <td>413.68</td>\n",
       "      <td>1.0</td>\n",
       "      <td>3516.345</td>\n",
       "      <td>363.68</td>\n",
       "      <td>33862.73</td>\n",
       "      <td>58417.14</td>\n",
       "      <td>18</td>\n",
       "      <td>4</td>\n",
       "      <td>5</td>\n",
       "      <td>1</td>\n",
       "      <td>36972</td>\n",
       "      <td>33862.73</td>\n",
       "    </tr>\n",
       "    <tr>\n",
       "      <th>19003</th>\n",
       "      <td>2021-05-04 19:00:00</td>\n",
       "      <td>399.99</td>\n",
       "      <td>1.0</td>\n",
       "      <td>3677.577</td>\n",
       "      <td>370.75</td>\n",
       "      <td>34451.68</td>\n",
       "      <td>58517.84</td>\n",
       "      <td>19</td>\n",
       "      <td>4</td>\n",
       "      <td>5</td>\n",
       "      <td>1</td>\n",
       "      <td>37417</td>\n",
       "      <td>34451.68</td>\n",
       "    </tr>\n",
       "    <tr>\n",
       "      <th>19004</th>\n",
       "      <td>2021-05-04 20:00:00</td>\n",
       "      <td>358.64</td>\n",
       "      <td>0.0</td>\n",
       "      <td>3485.918</td>\n",
       "      <td>368.64</td>\n",
       "      <td>34288.52</td>\n",
       "      <td>58514.49</td>\n",
       "      <td>20</td>\n",
       "      <td>4</td>\n",
       "      <td>5</td>\n",
       "      <td>1</td>\n",
       "      <td>37081</td>\n",
       "      <td>34288.52</td>\n",
       "    </tr>\n",
       "    <tr>\n",
       "      <th>19005</th>\n",
       "      <td>2021-05-04 21:00:00</td>\n",
       "      <td>404.99</td>\n",
       "      <td>1.0</td>\n",
       "      <td>3308.723</td>\n",
       "      <td>370.37</td>\n",
       "      <td>34421.28</td>\n",
       "      <td>58496.76</td>\n",
       "      <td>21</td>\n",
       "      <td>4</td>\n",
       "      <td>5</td>\n",
       "      <td>1</td>\n",
       "      <td>37205</td>\n",
       "      <td>34421.28</td>\n",
       "    </tr>\n",
       "    <tr>\n",
       "      <th>19006</th>\n",
       "      <td>2021-05-04 22:00:00</td>\n",
       "      <td>399.99</td>\n",
       "      <td>1.0</td>\n",
       "      <td>3228.442</td>\n",
       "      <td>366.17</td>\n",
       "      <td>33501.73</td>\n",
       "      <td>58568.31</td>\n",
       "      <td>22</td>\n",
       "      <td>4</td>\n",
       "      <td>5</td>\n",
       "      <td>1</td>\n",
       "      <td>36513</td>\n",
       "      <td>33501.73</td>\n",
       "    </tr>\n",
       "    <tr>\n",
       "      <th>19007</th>\n",
       "      <td>2021-05-04 23:00:00</td>\n",
       "      <td>394.91</td>\n",
       "      <td>1.0</td>\n",
       "      <td>2427.002</td>\n",
       "      <td>360.91</td>\n",
       "      <td>32446.67</td>\n",
       "      <td>58544.72</td>\n",
       "      <td>23</td>\n",
       "      <td>4</td>\n",
       "      <td>5</td>\n",
       "      <td>1</td>\n",
       "      <td>35242</td>\n",
       "      <td>32836.67</td>\n",
       "    </tr>\n",
       "  </tbody>\n",
       "</table>\n",
       "</div>"
      ],
      "text/plain": [
       "                 DateTime     SMF  Sistem Yönü  generation     PTF      KGUP  \\\n",
       "18998 2021-05-04 14:00:00  428.61          1.0    2784.170  367.61  32627.01   \n",
       "18999 2021-05-04 15:00:00  452.16          1.0    3007.848  364.16  32441.83   \n",
       "19000 2021-05-04 16:00:00  449.01          1.0    3372.067  354.01  32508.01   \n",
       "19001 2021-05-04 17:00:00  445.71          1.0    3384.877  355.71  33108.26   \n",
       "19002 2021-05-04 18:00:00  413.68          1.0    3516.345  363.68  33862.73   \n",
       "19003 2021-05-04 19:00:00  399.99          1.0    3677.577  370.75  34451.68   \n",
       "19004 2021-05-04 20:00:00  358.64          0.0    3485.918  368.64  34288.52   \n",
       "19005 2021-05-04 21:00:00  404.99          1.0    3308.723  370.37  34421.28   \n",
       "19006 2021-05-04 22:00:00  399.99          1.0    3228.442  366.17  33501.73   \n",
       "19007 2021-05-04 23:00:00  394.91          1.0    2427.002  360.91  32446.67   \n",
       "\n",
       "            EAK  hour  day  month  dayofweek  demand    supply  \n",
       "18998  57092.17    14    4      5          1   40383  32627.01  \n",
       "18999  57169.32    15    4      5          1   39779  32441.83  \n",
       "19000  57847.38    16    4      5          1   38784  32508.01  \n",
       "19001  58090.18    17    4      5          1   37727  33108.26  \n",
       "19002  58417.14    18    4      5          1   36972  33862.73  \n",
       "19003  58517.84    19    4      5          1   37417  34451.68  \n",
       "19004  58514.49    20    4      5          1   37081  34288.52  \n",
       "19005  58496.76    21    4      5          1   37205  34421.28  \n",
       "19006  58568.31    22    4      5          1   36513  33501.73  \n",
       "19007  58544.72    23    4      5          1   35242  32836.67  "
      ]
     },
     "execution_count": 16,
     "metadata": {},
     "output_type": "execute_result"
    }
   ],
   "source": [
    "df.tail(10)"
   ]
  },
  {
   "cell_type": "code",
   "execution_count": 17,
   "id": "b9d2e53a",
   "metadata": {
    "scrolled": true
   },
   "outputs": [
    {
     "data": {
      "text/html": [
       "<div>\n",
       "<style scoped>\n",
       "    .dataframe tbody tr th:only-of-type {\n",
       "        vertical-align: middle;\n",
       "    }\n",
       "\n",
       "    .dataframe tbody tr th {\n",
       "        vertical-align: top;\n",
       "    }\n",
       "\n",
       "    .dataframe thead th {\n",
       "        text-align: right;\n",
       "    }\n",
       "</style>\n",
       "<table border=\"1\" class=\"dataframe\">\n",
       "  <thead>\n",
       "    <tr style=\"text-align: right;\">\n",
       "      <th></th>\n",
       "      <th>DateTime</th>\n",
       "      <th>SMF</th>\n",
       "      <th>Sistem Yönü</th>\n",
       "      <th>generation</th>\n",
       "      <th>PTF</th>\n",
       "      <th>KGUP</th>\n",
       "      <th>EAK</th>\n",
       "      <th>hour</th>\n",
       "      <th>day</th>\n",
       "      <th>month</th>\n",
       "      <th>dayofweek</th>\n",
       "      <th>demand</th>\n",
       "      <th>supply</th>\n",
       "    </tr>\n",
       "  </thead>\n",
       "  <tbody>\n",
       "    <tr>\n",
       "      <th>16081</th>\n",
       "      <td>2021-01-03 01:00:00</td>\n",
       "      <td>293.29</td>\n",
       "      <td>0.0</td>\n",
       "      <td>919.527</td>\n",
       "      <td>312.06</td>\n",
       "      <td>25987.24</td>\n",
       "      <td>59360.48</td>\n",
       "      <td>1</td>\n",
       "      <td>3</td>\n",
       "      <td>1</td>\n",
       "      <td>6</td>\n",
       "      <td>30732</td>\n",
       "      <td>25987.24</td>\n",
       "    </tr>\n",
       "    <tr>\n",
       "      <th>11181</th>\n",
       "      <td>2020-06-12 21:00:00</td>\n",
       "      <td>237.93</td>\n",
       "      <td>0.0</td>\n",
       "      <td>1073.132</td>\n",
       "      <td>323.82</td>\n",
       "      <td>32113.12</td>\n",
       "      <td>60023.45</td>\n",
       "      <td>21</td>\n",
       "      <td>12</td>\n",
       "      <td>6</td>\n",
       "      <td>4</td>\n",
       "      <td>34476</td>\n",
       "      <td>32113.12</td>\n",
       "    </tr>\n",
       "    <tr>\n",
       "      <th>18821</th>\n",
       "      <td>2021-04-27 05:00:00</td>\n",
       "      <td>355.01</td>\n",
       "      <td>1.0</td>\n",
       "      <td>1402.862</td>\n",
       "      <td>325.01</td>\n",
       "      <td>27848.70</td>\n",
       "      <td>57350.38</td>\n",
       "      <td>5</td>\n",
       "      <td>27</td>\n",
       "      <td>4</td>\n",
       "      <td>1</td>\n",
       "      <td>30461</td>\n",
       "      <td>27848.70</td>\n",
       "    </tr>\n",
       "    <tr>\n",
       "      <th>6432</th>\n",
       "      <td>2019-11-28 00:00:00</td>\n",
       "      <td>350.00</td>\n",
       "      <td>1.0</td>\n",
       "      <td>401.560</td>\n",
       "      <td>315.57</td>\n",
       "      <td>27697.95</td>\n",
       "      <td>56698.50</td>\n",
       "      <td>0</td>\n",
       "      <td>28</td>\n",
       "      <td>11</td>\n",
       "      <td>3</td>\n",
       "      <td>31400</td>\n",
       "      <td>27697.95</td>\n",
       "    </tr>\n",
       "    <tr>\n",
       "      <th>8181</th>\n",
       "      <td>2020-02-08 21:00:00</td>\n",
       "      <td>403.32</td>\n",
       "      <td>1.0</td>\n",
       "      <td>2391.883</td>\n",
       "      <td>330.26</td>\n",
       "      <td>33252.68</td>\n",
       "      <td>56537.75</td>\n",
       "      <td>21</td>\n",
       "      <td>8</td>\n",
       "      <td>2</td>\n",
       "      <td>5</td>\n",
       "      <td>36240</td>\n",
       "      <td>33252.68</td>\n",
       "    </tr>\n",
       "    <tr>\n",
       "      <th>1319</th>\n",
       "      <td>2019-04-28 23:00:00</td>\n",
       "      <td>200.00</td>\n",
       "      <td>1.0</td>\n",
       "      <td>544.140</td>\n",
       "      <td>169.99</td>\n",
       "      <td>26441.55</td>\n",
       "      <td>53600.34</td>\n",
       "      <td>23</td>\n",
       "      <td>28</td>\n",
       "      <td>4</td>\n",
       "      <td>6</td>\n",
       "      <td>30000</td>\n",
       "      <td>26441.55</td>\n",
       "    </tr>\n",
       "    <tr>\n",
       "      <th>1219</th>\n",
       "      <td>2019-04-24 19:00:00</td>\n",
       "      <td>350.00</td>\n",
       "      <td>1.0</td>\n",
       "      <td>754.417</td>\n",
       "      <td>303.85</td>\n",
       "      <td>31845.15</td>\n",
       "      <td>55845.30</td>\n",
       "      <td>19</td>\n",
       "      <td>24</td>\n",
       "      <td>4</td>\n",
       "      <td>2</td>\n",
       "      <td>35600</td>\n",
       "      <td>31845.15</td>\n",
       "    </tr>\n",
       "    <tr>\n",
       "      <th>9989</th>\n",
       "      <td>2020-04-24 05:00:00</td>\n",
       "      <td>299.99</td>\n",
       "      <td>1.0</td>\n",
       "      <td>2889.478</td>\n",
       "      <td>198.78</td>\n",
       "      <td>20314.77</td>\n",
       "      <td>54646.71</td>\n",
       "      <td>5</td>\n",
       "      <td>24</td>\n",
       "      <td>4</td>\n",
       "      <td>4</td>\n",
       "      <td>21852</td>\n",
       "      <td>20314.77</td>\n",
       "    </tr>\n",
       "    <tr>\n",
       "      <th>17728</th>\n",
       "      <td>2021-03-12 16:00:00</td>\n",
       "      <td>334.41</td>\n",
       "      <td>1.0</td>\n",
       "      <td>1345.502</td>\n",
       "      <td>334.41</td>\n",
       "      <td>33762.51</td>\n",
       "      <td>59200.62</td>\n",
       "      <td>16</td>\n",
       "      <td>12</td>\n",
       "      <td>3</td>\n",
       "      <td>4</td>\n",
       "      <td>40619</td>\n",
       "      <td>33762.51</td>\n",
       "    </tr>\n",
       "    <tr>\n",
       "      <th>239</th>\n",
       "      <td>2019-03-14 23:00:00</td>\n",
       "      <td>305.00</td>\n",
       "      <td>1.0</td>\n",
       "      <td>739.140</td>\n",
       "      <td>299.49</td>\n",
       "      <td>30843.69</td>\n",
       "      <td>57574.46</td>\n",
       "      <td>23</td>\n",
       "      <td>14</td>\n",
       "      <td>3</td>\n",
       "      <td>3</td>\n",
       "      <td>32800</td>\n",
       "      <td>30843.69</td>\n",
       "    </tr>\n",
       "  </tbody>\n",
       "</table>\n",
       "</div>"
      ],
      "text/plain": [
       "                 DateTime     SMF  Sistem Yönü  generation     PTF      KGUP  \\\n",
       "16081 2021-01-03 01:00:00  293.29          0.0     919.527  312.06  25987.24   \n",
       "11181 2020-06-12 21:00:00  237.93          0.0    1073.132  323.82  32113.12   \n",
       "18821 2021-04-27 05:00:00  355.01          1.0    1402.862  325.01  27848.70   \n",
       "6432  2019-11-28 00:00:00  350.00          1.0     401.560  315.57  27697.95   \n",
       "8181  2020-02-08 21:00:00  403.32          1.0    2391.883  330.26  33252.68   \n",
       "1319  2019-04-28 23:00:00  200.00          1.0     544.140  169.99  26441.55   \n",
       "1219  2019-04-24 19:00:00  350.00          1.0     754.417  303.85  31845.15   \n",
       "9989  2020-04-24 05:00:00  299.99          1.0    2889.478  198.78  20314.77   \n",
       "17728 2021-03-12 16:00:00  334.41          1.0    1345.502  334.41  33762.51   \n",
       "239   2019-03-14 23:00:00  305.00          1.0     739.140  299.49  30843.69   \n",
       "\n",
       "            EAK  hour  day  month  dayofweek  demand    supply  \n",
       "16081  59360.48     1    3      1          6   30732  25987.24  \n",
       "11181  60023.45    21   12      6          4   34476  32113.12  \n",
       "18821  57350.38     5   27      4          1   30461  27848.70  \n",
       "6432   56698.50     0   28     11          3   31400  27697.95  \n",
       "8181   56537.75    21    8      2          5   36240  33252.68  \n",
       "1319   53600.34    23   28      4          6   30000  26441.55  \n",
       "1219   55845.30    19   24      4          2   35600  31845.15  \n",
       "9989   54646.71     5   24      4          4   21852  20314.77  \n",
       "17728  59200.62    16   12      3          4   40619  33762.51  \n",
       "239    57574.46    23   14      3          3   32800  30843.69  "
      ]
     },
     "execution_count": 17,
     "metadata": {},
     "output_type": "execute_result"
    }
   ],
   "source": [
    "df.sample(10)"
   ]
  },
  {
   "cell_type": "code",
   "execution_count": 18,
   "id": "fea2b2af",
   "metadata": {},
   "outputs": [
    {
     "name": "stdout",
     "output_type": "stream",
     "text": [
      "1.0    10296\n",
      "0.0     7514\n",
      "Name: Sistem Yönü, dtype: int64\n"
     ]
    },
    {
     "data": {
      "text/plain": [
       "Text(0, 0.5, 'Frequency')"
      ]
     },
     "execution_count": 18,
     "metadata": {},
     "output_type": "execute_result"
    },
    {
     "data": {
      "image/png": "[encoded data removed]",
      "text/plain": [
       "<Figure size 432x288 with 1 Axes>"
      ]
     },
     "metadata": {
      "needs_background": "light"
     },
     "output_type": "display_data"
    }
   ],
   "source": [
    "\"Checking Target of the data\"\n",
    "print(df['Sistem Yönü'].value_counts())\n",
    "pd.value_counts(df['Sistem Yönü']).plot.bar()\n",
    "plt.xlabel('Class')\n",
    "plt.ylabel('Frequency')\n"
   ]
  },
  {
   "cell_type": "code",
   "execution_count": 19,
   "id": "39f4b544",
   "metadata": {},
   "outputs": [
    {
     "name": "stdout",
     "output_type": "stream",
     "text": [
      "The categorical variables are : []\n"
     ]
    }
   ],
   "source": [
    "\"\"\"Checking whether the data includes categorical values\"\"\"\n",
    "categorical = [var for var in df.columns if df[var].dtype=='O']\n",
    "print('The categorical variables are :', categorical)\n"
   ]
  },
  {
   "cell_type": "code",
   "execution_count": 20,
   "id": "8ddbd340",
   "metadata": {},
   "outputs": [
    {
     "name": "stdout",
     "output_type": "stream",
     "text": [
      "There are 13 numerical variables\n",
      "\n",
      "The numerical variables are : ['DateTime', 'SMF', 'Sistem Yönü', 'generation', 'PTF', 'KGUP', 'EAK', 'hour', 'day', 'month', 'dayofweek', 'demand', 'supply']\n"
     ]
    },
    {
     "data": {
      "text/html": [
       "<div>\n",
       "<style scoped>\n",
       "    .dataframe tbody tr th:only-of-type {\n",
       "        vertical-align: middle;\n",
       "    }\n",
       "\n",
       "    .dataframe tbody tr th {\n",
       "        vertical-align: top;\n",
       "    }\n",
       "\n",
       "    .dataframe thead th {\n",
       "        text-align: right;\n",
       "    }\n",
       "</style>\n",
       "<table border=\"1\" class=\"dataframe\">\n",
       "  <thead>\n",
       "    <tr style=\"text-align: right;\">\n",
       "      <th></th>\n",
       "      <th>DateTime</th>\n",
       "      <th>SMF</th>\n",
       "      <th>Sistem Yönü</th>\n",
       "      <th>generation</th>\n",
       "      <th>PTF</th>\n",
       "      <th>KGUP</th>\n",
       "      <th>EAK</th>\n",
       "      <th>hour</th>\n",
       "      <th>day</th>\n",
       "      <th>month</th>\n",
       "      <th>dayofweek</th>\n",
       "      <th>demand</th>\n",
       "      <th>supply</th>\n",
       "    </tr>\n",
       "  </thead>\n",
       "  <tbody>\n",
       "    <tr>\n",
       "      <th>0</th>\n",
       "      <td>2019-03-05 00:00:00</td>\n",
       "      <td>288.48</td>\n",
       "      <td>0.0</td>\n",
       "      <td>653.453</td>\n",
       "      <td>288.48</td>\n",
       "      <td>29266.73</td>\n",
       "      <td>57640.72</td>\n",
       "      <td>0</td>\n",
       "      <td>5</td>\n",
       "      <td>3</td>\n",
       "      <td>1</td>\n",
       "      <td>31900</td>\n",
       "      <td>29266.73</td>\n",
       "    </tr>\n",
       "    <tr>\n",
       "      <th>1</th>\n",
       "      <td>2019-03-05 01:00:00</td>\n",
       "      <td>290.00</td>\n",
       "      <td>0.0</td>\n",
       "      <td>824.797</td>\n",
       "      <td>290.49</td>\n",
       "      <td>26959.48</td>\n",
       "      <td>57743.55</td>\n",
       "      <td>1</td>\n",
       "      <td>5</td>\n",
       "      <td>3</td>\n",
       "      <td>1</td>\n",
       "      <td>29800</td>\n",
       "      <td>26959.48</td>\n",
       "    </tr>\n",
       "    <tr>\n",
       "      <th>5</th>\n",
       "      <td>2019-03-05 05:00:00</td>\n",
       "      <td>280.00</td>\n",
       "      <td>0.0</td>\n",
       "      <td>1242.003</td>\n",
       "      <td>299.98</td>\n",
       "      <td>25721.17</td>\n",
       "      <td>58270.17</td>\n",
       "      <td>5</td>\n",
       "      <td>5</td>\n",
       "      <td>3</td>\n",
       "      <td>1</td>\n",
       "      <td>28300</td>\n",
       "      <td>25721.17</td>\n",
       "    </tr>\n",
       "    <tr>\n",
       "      <th>6</th>\n",
       "      <td>2019-03-05 06:00:00</td>\n",
       "      <td>267.49</td>\n",
       "      <td>0.0</td>\n",
       "      <td>1323.608</td>\n",
       "      <td>287.49</td>\n",
       "      <td>26618.48</td>\n",
       "      <td>58254.69</td>\n",
       "      <td>6</td>\n",
       "      <td>5</td>\n",
       "      <td>3</td>\n",
       "      <td>1</td>\n",
       "      <td>29900</td>\n",
       "      <td>26618.48</td>\n",
       "    </tr>\n",
       "    <tr>\n",
       "      <th>7</th>\n",
       "      <td>2019-03-05 07:00:00</td>\n",
       "      <td>295.60</td>\n",
       "      <td>0.0</td>\n",
       "      <td>1399.933</td>\n",
       "      <td>320.60</td>\n",
       "      <td>28700.24</td>\n",
       "      <td>58006.07</td>\n",
       "      <td>7</td>\n",
       "      <td>5</td>\n",
       "      <td>3</td>\n",
       "      <td>1</td>\n",
       "      <td>31800</td>\n",
       "      <td>28700.24</td>\n",
       "    </tr>\n",
       "  </tbody>\n",
       "</table>\n",
       "</div>"
      ],
      "text/plain": [
       "             DateTime     SMF  Sistem Yönü  generation     PTF      KGUP  \\\n",
       "0 2019-03-05 00:00:00  288.48          0.0     653.453  288.48  29266.73   \n",
       "1 2019-03-05 01:00:00  290.00          0.0     824.797  290.49  26959.48   \n",
       "5 2019-03-05 05:00:00  280.00          0.0    1242.003  299.98  25721.17   \n",
       "6 2019-03-05 06:00:00  267.49          0.0    1323.608  287.49  26618.48   \n",
       "7 2019-03-05 07:00:00  295.60          0.0    1399.933  320.60  28700.24   \n",
       "\n",
       "        EAK  hour  day  month  dayofweek  demand    supply  \n",
       "0  57640.72     0    5      3          1   31900  29266.73  \n",
       "1  57743.55     1    5      3          1   29800  26959.48  \n",
       "5  58270.17     5    5      3          1   28300  25721.17  \n",
       "6  58254.69     6    5      3          1   29900  26618.48  \n",
       "7  58006.07     7    5      3          1   31800  28700.24  "
      ]
     },
     "execution_count": 20,
     "metadata": {},
     "output_type": "execute_result"
    }
   ],
   "source": [
    "\"\"\"Finding numerical variables\"\"\"\n",
    "numerical = [var for var in df.columns if df[var].dtype!='O']\n",
    "print('There are {} numerical variables\\n'.format(len(numerical)))\n",
    "print('The numerical variables are :', numerical)\n",
    "df[numerical].head()"
   ]
  },
  {
   "cell_type": "code",
   "execution_count": 21,
   "id": "9cfe0ca9",
   "metadata": {},
   "outputs": [
    {
     "data": {
      "text/plain": [
       "<AxesSubplot:>"
      ]
     },
     "execution_count": 21,
     "metadata": {},
     "output_type": "execute_result"
    },
    {
     "data": {
      "image/png": "[encoded data removed]",
      "text/plain": [
       "<Figure size 720x576 with 2 Axes>"
      ]
     },
     "metadata": {
      "needs_background": "light"
     },
     "output_type": "display_data"
    }
   ],
   "source": [
    "\"Correlation matrix\"\n",
    "df = df.set_index(\"DateTime\")\n",
    "f, ax = plt.subplots(figsize=(10, 8))\n",
    "sns.heatmap(df.corr(), mask=np.zeros_like(df.corr(), dtype=np.bool), \n",
    "            cmap=sns.diverging_palette(220, 10, as_cmap=True),\n",
    "            square=True, ax=ax, fmt='.2f',annot=True)"
   ]
  },
  {
   "cell_type": "code",
   "execution_count": 22,
   "id": "6e0898be",
   "metadata": {},
   "outputs": [
    {
     "data": {
      "image/png": "[encoded data removed]",
      "text/plain": [
       "<Figure size 432x288 with 1 Axes>"
      ]
     },
     "metadata": {
      "needs_background": "light"
     },
     "output_type": "display_data"
    },
    {
     "data": {
      "image/png": "[encoded data removed]",
      "text/plain": [
       "<Figure size 432x288 with 1 Axes>"
      ]
     },
     "metadata": {
      "needs_background": "light"
     },
     "output_type": "display_data"
    },
    {
     "data": {
      "image/png": "[encoded data removed]",
      "text/plain": [
       "<Figure size 432x288 with 1 Axes>"
      ]
     },
     "metadata": {
      "needs_background": "light"
     },
     "output_type": "display_data"
    },
    {
     "data": {
      "image/png": "[encoded data removed]",
      "text/plain": [
       "<Figure size 432x288 with 1 Axes>"
      ]
     },
     "metadata": {
      "needs_background": "light"
     },
     "output_type": "display_data"
    },
    {
     "data": {
      "image/png": "[encoded data removed]",
      "text/plain": [
       "<Figure size 432x288 with 1 Axes>"
      ]
     },
     "metadata": {
      "needs_background": "light"
     },
     "output_type": "display_data"
    },
    {
     "data": {
      "image/png": "[encoded data removed]",
      "text/plain": [
       "<Figure size 432x288 with 1 Axes>"
      ]
     },
     "metadata": {
      "needs_background": "light"
     },
     "output_type": "display_data"
    },
    {
     "data": {
      "image/png": "[encoded data removed]",
      "text/plain": [
       "<Figure size 432x288 with 1 Axes>"
      ]
     },
     "metadata": {
      "needs_background": "light"
     },
     "output_type": "display_data"
    },
    {
     "data": {
      "image/png": "[encoded data removed]",
      "text/plain": [
       "<Figure size 432x288 with 1 Axes>"
      ]
     },
     "metadata": {
      "needs_background": "light"
     },
     "output_type": "display_data"
    },
    {
     "data": {
      "image/png": "[encoded data removed]",
      "text/plain": [
       "<Figure size 432x288 with 1 Axes>"
      ]
     },
     "metadata": {
      "needs_background": "light"
     },
     "output_type": "display_data"
    },
    {
     "data": {
      "image/png": "[encoded data removed]",
      "text/plain": [
       "<Figure size 432x288 with 1 Axes>"
      ]
     },
     "metadata": {
      "needs_background": "light"
     },
     "output_type": "display_data"
    },
    {
     "data": {
      "image/png": "[encoded data removed]",
      "text/plain": [
       "<Figure size 432x288 with 1 Axes>"
      ]
     },
     "metadata": {
      "needs_background": "light"
     },
     "output_type": "display_data"
    },
    {
     "data": {
      "image/png": "[encoded data removed]",
      "text/plain": [
       "<Figure size 432x288 with 1 Axes>"
      ]
     },
     "metadata": {
      "needs_background": "light"
     },
     "output_type": "display_data"
    }
   ],
   "source": [
    "\"Creating the BoxPlot\"\n",
    "for feature in df.columns:\n",
    "    ax = sns.boxplot(x = df[feature])\n",
    "    ax.set_xlabel(feature, fontsize = 15)\n",
    "    ax.set_ylabel(feature, fontsize = 15)\n",
    "    ax.set_title(\"boxplot\", fontsize =20, pad = 20)\n",
    "    plt.show()"
   ]
  },
  {
   "cell_type": "code",
   "execution_count": 23,
   "id": "b00d6c6b",
   "metadata": {},
   "outputs": [
    {
     "data": {
      "image/png": "[encoded data removed]",
      "text/plain": [
       "<Figure size 432x288 with 1 Axes>"
      ]
     },
     "metadata": {
      "needs_background": "light"
     },
     "output_type": "display_data"
    },
    {
     "data": {
      "image/png": "[encoded data removed]",
      "text/plain": [
       "<Figure size 432x288 with 1 Axes>"
      ]
     },
     "metadata": {
      "needs_background": "light"
     },
     "output_type": "display_data"
    },
    {
     "data": {
      "image/png": "[encoded data removed]",
      "text/plain": [
       "<Figure size 432x288 with 1 Axes>"
      ]
     },
     "metadata": {
      "needs_background": "light"
     },
     "output_type": "display_data"
    },
    {
     "data": {
      "image/png": "[encoded data removed]",
      "text/plain": [
       "<Figure size 432x288 with 1 Axes>"
      ]
     },
     "metadata": {
      "needs_background": "light"
     },
     "output_type": "display_data"
    },
    {
     "data": {
      "image/png": "[encoded data removed]",
      "text/plain": [
       "<Figure size 432x288 with 1 Axes>"
      ]
     },
     "metadata": {
      "needs_background": "light"
     },
     "output_type": "display_data"
    },
    {
     "data": {
      "image/png": "[encoded data removed]",
      "text/plain": [
       "<Figure size 432x288 with 1 Axes>"
      ]
     },
     "metadata": {
      "needs_background": "light"
     },
     "output_type": "display_data"
    },
    {
     "data": {
      "image/png": "[encoded data removed]",
      "text/plain": [
       "<Figure size 432x288 with 1 Axes>"
      ]
     },
     "metadata": {
      "needs_background": "light"
     },
     "output_type": "display_data"
    },
    {
     "data": {
      "image/png": "[encoded data removed]",
      "text/plain": [
       "<Figure size 432x288 with 1 Axes>"
      ]
     },
     "metadata": {
      "needs_background": "light"
     },
     "output_type": "display_data"
    },
    {
     "data": {
      "image/png": "[encoded data removed]",
      "text/plain": [
       "<Figure size 432x288 with 1 Axes>"
      ]
     },
     "metadata": {
      "needs_background": "light"
     },
     "output_type": "display_data"
    },
    {
     "data": {
      "image/png": "[encoded data removed]",
      "text/plain": [
       "<Figure size 432x288 with 1 Axes>"
      ]
     },
     "metadata": {
      "needs_background": "light"
     },
     "output_type": "display_data"
    },
    {
     "data": {
      "image/png": "[encoded data removed]",
      "text/plain": [
       "<Figure size 432x288 with 1 Axes>"
      ]
     },
     "metadata": {
      "needs_background": "light"
     },
     "output_type": "display_data"
    },
    {
     "data": {
      "image/png": "[encoded data removed]",
      "text/plain": [
       "<Figure size 432x288 with 1 Axes>"
      ]
     },
     "metadata": {
      "needs_background": "light"
     },
     "output_type": "display_data"
    }
   ],
   "source": [
    "\"Creating the histograms\"\n",
    "for feature in df.columns:\n",
    "    sns.histplot(data=df, x=feature).set(title=feature)\n",
    "    plt.show()"
   ]
  },
  {
   "cell_type": "code",
   "execution_count": 24,
   "id": "22be7651",
   "metadata": {},
   "outputs": [
    {
     "name": "stdout",
     "output_type": "stream",
     "text": [
      "Before eliminating shape:  (17810, 12)\n",
      "After eliminating shape:  (17810, 10)\n",
      "Eliminating features:\n",
      " ['demand', 'supply']\n"
     ]
    }
   ],
   "source": [
    "\"Creating correlation matrix features without target value\"\n",
    "olddf = df.columns\n",
    "print(\"Before eliminating shape: \",df.shape)\n",
    "corr_matrix = df.corr().abs()\n",
    "upper = corr_matrix.where(np.triu(np.ones(corr_matrix.shape), k=1).astype(np.bool))\n",
    "# Keeping at least any feature in data.\n",
    "to_drop = [column for column in upper.columns if any(upper[column] > 0.94)]\n",
    "# Dropping index of feature columns with correlation greater than 0.94\n",
    "df = df.drop(df[to_drop], axis=1)\n",
    "newdf = df.columns\n",
    "print(\"After eliminating shape: \",df.shape)\n",
    "print(\"Eliminating features:\\n\",list(set(olddf) - set(newdf)))"
   ]
  },
  {
   "cell_type": "code",
   "execution_count": 25,
   "id": "2ffd0ae7",
   "metadata": {},
   "outputs": [
    {
     "name": "stdout",
     "output_type": "stream",
     "text": [
      "TimeSeriesSplit(gap=0, max_train_size=None, n_splits=5, test_size=None)\n",
      "TRAIN: [   0    1    2 ... 2967 2968 2969] VALIDATION: [2970 2971 2972 ... 5935 5936 5937]\n",
      "{'learning_rate': 0.1, 'max_depth': 13, 'min_child_weight': 6, 'n_estimators': 25, 'num_leaves': 15, 'reg_lambda': 0.0}\n",
      "0.937037037037037\n"
     ]
    },
    {
     "data": {
      "image/png": "[encoded data removed]",
      "text/plain": [
       "<Figure size 432x288 with 1 Axes>"
      ]
     },
     "metadata": {
      "needs_background": "light"
     },
     "output_type": "display_data"
    },
    {
     "name": "stdout",
     "output_type": "stream",
     "text": [
      "Recall=0.699 \n",
      "Precision=0.969\n",
      "F1 Score=0.812\n",
      "Average precision-recall score: 0.846\n",
      "AUC Score: 0.8354930271885505\n"
     ]
    },
    {
     "data": {
      "image/png": "[encoded data removed]",
      "text/plain": [
       "<Figure size 432x288 with 1 Axes>"
      ]
     },
     "metadata": {
      "needs_background": "light"
     },
     "output_type": "display_data"
    },
    {
     "name": "stdout",
     "output_type": "stream",
     "text": [
      "TRAIN: [   0    1    2 ... 5935 5936 5937] VALIDATION: [5938 5939 5940 ... 8903 8904 8905]\n",
      "{'learning_rate': 0.1, 'max_depth': 13, 'min_child_weight': 6, 'n_estimators': 25, 'num_leaves': 45, 'reg_lambda': 1.0}\n",
      "0.9479622112730791\n"
     ]
    },
    {
     "data": {
      "image/png": "[encoded data removed]",
      "text/plain": [
       "<Figure size 432x288 with 1 Axes>"
      ]
     },
     "metadata": {
      "needs_background": "light"
     },
     "output_type": "display_data"
    },
    {
     "name": "stdout",
     "output_type": "stream",
     "text": [
      "Recall=0.906 \n",
      "Precision=0.785\n",
      "F1 Score=0.841\n",
      "Average precision-recall score: 0.761\n",
      "AUC Score: 0.8146913823164499\n"
     ]
    },
    {
     "data": {
      "image/png": "[encoded data removed]",
      "text/plain": [
       "<Figure size 432x288 with 1 Axes>"
      ]
     },
     "metadata": {
      "needs_background": "light"
     },
     "output_type": "display_data"
    },
    {
     "name": "stdout",
     "output_type": "stream",
     "text": [
      "TRAIN: [   0    1    2 ... 8903 8904 8905] VALIDATION: [ 8906  8907  8908 ... 11871 11872 11873]\n",
      "{'learning_rate': 0.1, 'max_depth': 17, 'min_child_weight': 6, 'n_estimators': 25, 'num_leaves': 45, 'reg_lambda': 0.0}\n",
      "0.9555380368032436\n"
     ]
    },
    {
     "data": {
      "image/png": "[encoded data removed]",
      "text/plain": [
       "<Figure size 432x288 with 1 Axes>"
      ]
     },
     "metadata": {
      "needs_background": "light"
     },
     "output_type": "display_data"
    },
    {
     "name": "stdout",
     "output_type": "stream",
     "text": [
      "Recall=0.732 \n",
      "Precision=0.978\n",
      "F1 Score=0.837\n",
      "Average precision-recall score: 0.873\n",
      "AUC Score: 0.8544039462353513\n"
     ]
    },
    {
     "data": {
      "image/png": "[encoded data removed]",
      "text/plain": [
       "<Figure size 432x288 with 1 Axes>"
      ]
     },
     "metadata": {
      "needs_background": "light"
     },
     "output_type": "display_data"
    },
    {
     "name": "stdout",
     "output_type": "stream",
     "text": [
      "TRAIN: [    0     1     2 ... 11871 11872 11873] VALIDATION: [11874 11875 11876 ... 14839 14840 14841]\n",
      "{'learning_rate': 0.1, 'max_depth': 17, 'min_child_weight': 6, 'n_estimators': 25, 'num_leaves': 45, 'reg_lambda': 0.0}\n",
      "0.9592398350552033\n"
     ]
    },
    {
     "data": {
      "image/png": "[encoded data removed]",
      "text/plain": [
       "<Figure size 432x288 with 1 Axes>"
      ]
     },
     "metadata": {
      "needs_background": "light"
     },
     "output_type": "display_data"
    },
    {
     "name": "stdout",
     "output_type": "stream",
     "text": [
      "Recall=0.007 \n",
      "Precision=1.000\n",
      "F1 Score=0.015\n",
      "Average precision-recall score: 0.647\n",
      "AUC Score: 0.503659174072138\n"
     ]
    },
    {
     "data": {
      "image/png": "[encoded data removed]",
      "text/plain": [
       "<Figure size 432x288 with 1 Axes>"
      ]
     },
     "metadata": {
      "needs_background": "light"
     },
     "output_type": "display_data"
    },
    {
     "name": "stdout",
     "output_type": "stream",
     "text": [
      "TRAIN: [    0     1     2 ... 14839 14840 14841] VALIDATION: [14842 14843 14844 ... 17807 17808 17809]\n",
      "{'learning_rate': 0.1, 'max_depth': 9, 'min_child_weight': 6, 'n_estimators': 25, 'num_leaves': 45, 'reg_lambda': 0.0}\n",
      "0.9592382062988708\n"
     ]
    },
    {
     "data": {
      "image/png": "[encoded data removed]",
      "text/plain": [
       "<Figure size 432x288 with 1 Axes>"
      ]
     },
     "metadata": {
      "needs_background": "light"
     },
     "output_type": "display_data"
    },
    {
     "name": "stdout",
     "output_type": "stream",
     "text": [
      "Recall=1.000 \n",
      "Precision=0.610\n",
      "F1 Score=0.758\n",
      "Average precision-recall score: 0.610\n",
      "AUC Score: 0.5169348010160881\n"
     ]
    },
    {
     "data": {
      "image/png": "[encoded data removed]",
      "text/plain": [
       "<Figure size 432x288 with 1 Axes>"
      ]
     },
     "metadata": {
      "needs_background": "light"
     },
     "output_type": "display_data"
    },
    {
     "name": "stdout",
     "output_type": "stream",
     "text": [
      "Accuracy Results:\n",
      " [0.8190700808625337, 0.819743935309973, 0.8332210242587601, 0.36017520215633425, 0.6155660377358491]\n",
      "AUC Results:\n",
      " [0.8354930271885505, 0.8146913823164499, 0.8544039462353513, 0.503659174072138, 0.5169348010160881]\n"
     ]
    }
   ],
   "source": [
    "#%% Creating TimeSeriesSplit, Validation set and Training set\n",
    "Target = df['Sistem Yönü']\n",
    "Target = pd.DataFrame(Target)\n",
    "df = df.drop('Sistem Yönü', axis=1)\n",
    "\n",
    "df = df.values\n",
    "Target = Target.values\n",
    "\n",
    "sc_X = MinMaxScaler()\n",
    "sc_y = MinMaxScaler()\n",
    "\n",
    "k = 0\n",
    "n_splits=5\n",
    "\n",
    "tscv = TimeSeriesSplit(max_train_size=None, n_splits=n_splits)\n",
    "predictions = pd.DataFrame(columns=np.arange(0,5,1)).fillna(0)\n",
    "accuracyresults = np.zeros(n_splits)\n",
    "aucscoreresults = np.zeros(n_splits)\n",
    "X_train_append = []\n",
    "y_train_append = []\n",
    "X_val_append = []\n",
    "y_val_append = []\n",
    "print(tscv)\n",
    "for train_index, val_index in tscv.split(df):\n",
    "    print(\"TRAIN:\", train_index, \"VALIDATION:\", val_index)    \n",
    "    X_train, X_val = df[train_index], df[val_index]\n",
    "    y_train, y_val = Target[train_index], Target[val_index]\n",
    "    X_train_scaled = sc_X.fit_transform(X_train)\n",
    "    X_val_scaled = sc_y.fit_transform(X_val)\n",
    "    X_train_append.append(X_train_scaled), y_train_append.append(y_train), X_val_append.append(X_val_scaled), y_val_append.append(y_val)\n",
    "    model, predictions[k] = LGBClassifier(X_train_scaled,y_train.ravel(),X_val_scaled)\n",
    "    # scores = model.predict_proba(X_val_scaled)[:,1]\n",
    "    \n",
    "    #Plotting\n",
    "    plot_cm(model, predictions[k])\n",
    "    aucscore = plot_aucprc(y_val, predictions[k]) \n",
    "    accuracyresults[k] = metrics.accuracy_score(y_val, predictions[k])\n",
    "    aucscoreresults[k] = aucscore\n",
    "    k = k + 1\n",
    "    \n",
    "accuracyresults = list(accuracyresults)\n",
    "aucscoreresults = list(aucscoreresults)\n",
    "print(\"Accuracy Results:\\n\", accuracyresults)\n",
    "print(\"AUC Results:\\n\",aucscoreresults)\n"
   ]
  },
  {
   "cell_type": "code",
   "execution_count": 26,
   "id": "214c2fff",
   "metadata": {},
   "outputs": [
    {
     "data": {
      "text/html": [
       "<div>\n",
       "<style scoped>\n",
       "    .dataframe tbody tr th:only-of-type {\n",
       "        vertical-align: middle;\n",
       "    }\n",
       "\n",
       "    .dataframe tbody tr th {\n",
       "        vertical-align: top;\n",
       "    }\n",
       "\n",
       "    .dataframe thead th {\n",
       "        text-align: right;\n",
       "    }\n",
       "</style>\n",
       "<table border=\"1\" class=\"dataframe\">\n",
       "  <thead>\n",
       "    <tr style=\"text-align: right;\">\n",
       "      <th></th>\n",
       "      <th>DateTime</th>\n",
       "      <th>generation</th>\n",
       "    </tr>\n",
       "  </thead>\n",
       "  <tbody>\n",
       "    <tr>\n",
       "      <th>0</th>\n",
       "      <td>2019-03-05 00:00:00</td>\n",
       "      <td>653.453</td>\n",
       "    </tr>\n",
       "    <tr>\n",
       "      <th>1</th>\n",
       "      <td>2019-03-05 01:00:00</td>\n",
       "      <td>824.797</td>\n",
       "    </tr>\n",
       "    <tr>\n",
       "      <th>2</th>\n",
       "      <td>2019-03-05 02:00:00</td>\n",
       "      <td>892.950</td>\n",
       "    </tr>\n",
       "    <tr>\n",
       "      <th>3</th>\n",
       "      <td>2019-03-05 03:00:00</td>\n",
       "      <td>973.000</td>\n",
       "    </tr>\n",
       "    <tr>\n",
       "      <th>4</th>\n",
       "      <td>2019-03-05 04:00:00</td>\n",
       "      <td>1071.253</td>\n",
       "    </tr>\n",
       "  </tbody>\n",
       "</table>\n",
       "</div>"
      ],
      "text/plain": [
       "             DateTime  generation\n",
       "0 2019-03-05 00:00:00     653.453\n",
       "1 2019-03-05 01:00:00     824.797\n",
       "2 2019-03-05 02:00:00     892.950\n",
       "3 2019-03-05 03:00:00     973.000\n",
       "4 2019-03-05 04:00:00    1071.253"
      ]
     },
     "execution_count": 26,
     "metadata": {},
     "output_type": "execute_result"
    }
   ],
   "source": [
    "#%%####################################\n",
    "############## TEST SET  ##############\n",
    "#######################################\n",
    "\n",
    "wind_test = get_WindGenerationForecast(tomorrow, tomorrow, \"forecast\")\n",
    "wind_train.head()"
   ]
  },
  {
   "cell_type": "code",
   "execution_count": 27,
   "id": "69046107",
   "metadata": {},
   "outputs": [
    {
     "data": {
      "text/html": [
       "<div>\n",
       "<style scoped>\n",
       "    .dataframe tbody tr th:only-of-type {\n",
       "        vertical-align: middle;\n",
       "    }\n",
       "\n",
       "    .dataframe tbody tr th {\n",
       "        vertical-align: top;\n",
       "    }\n",
       "\n",
       "    .dataframe thead th {\n",
       "        text-align: right;\n",
       "    }\n",
       "</style>\n",
       "<table border=\"1\" class=\"dataframe\">\n",
       "  <thead>\n",
       "    <tr style=\"text-align: right;\">\n",
       "      <th></th>\n",
       "      <th>SMF</th>\n",
       "    </tr>\n",
       "    <tr>\n",
       "      <th>DateTime</th>\n",
       "      <th></th>\n",
       "    </tr>\n",
       "  </thead>\n",
       "  <tbody>\n",
       "    <tr>\n",
       "      <th>2022-03-16 00:00:00</th>\n",
       "      <td>1745.00</td>\n",
       "    </tr>\n",
       "    <tr>\n",
       "      <th>2022-03-16 01:00:00</th>\n",
       "      <td>1745.00</td>\n",
       "    </tr>\n",
       "    <tr>\n",
       "      <th>2022-03-16 02:00:00</th>\n",
       "      <td>1745.00</td>\n",
       "    </tr>\n",
       "    <tr>\n",
       "      <th>2022-03-16 03:00:00</th>\n",
       "      <td>1649.01</td>\n",
       "    </tr>\n",
       "    <tr>\n",
       "      <th>2022-03-16 04:00:00</th>\n",
       "      <td>1496.47</td>\n",
       "    </tr>\n",
       "  </tbody>\n",
       "</table>\n",
       "</div>"
      ],
      "text/plain": [
       "                         SMF\n",
       "DateTime                    \n",
       "2022-03-16 00:00:00  1745.00\n",
       "2022-03-16 01:00:00  1745.00\n",
       "2022-03-16 02:00:00  1745.00\n",
       "2022-03-16 03:00:00  1649.01\n",
       "2022-03-16 04:00:00  1496.47"
      ]
     },
     "execution_count": 27,
     "metadata": {},
     "output_type": "execute_result"
    }
   ],
   "source": [
    "#%% SMF VE SİSTEM YÖNÜ\n",
    "\n",
    "smf_test = get_smf(yesterday, yesterday)\n",
    "smf_test = smf_test.drop(['Sistem Yönü'], axis = 1)\n",
    "smf_test = smf_test.reset_index(drop=True)\n",
    "smf_test[\"DateTime\"] = rng_test\n",
    "smf_test = smf_test.set_index(\"DateTime\")\n",
    "smf_test.head()"
   ]
  },
  {
   "cell_type": "code",
   "execution_count": 28,
   "id": "5bca4c63",
   "metadata": {},
   "outputs": [
    {
     "data": {
      "text/html": [
       "<div>\n",
       "<style scoped>\n",
       "    .dataframe tbody tr th:only-of-type {\n",
       "        vertical-align: middle;\n",
       "    }\n",
       "\n",
       "    .dataframe tbody tr th {\n",
       "        vertical-align: top;\n",
       "    }\n",
       "\n",
       "    .dataframe thead th {\n",
       "        text-align: right;\n",
       "    }\n",
       "</style>\n",
       "<table border=\"1\" class=\"dataframe\">\n",
       "  <thead>\n",
       "    <tr style=\"text-align: right;\">\n",
       "      <th></th>\n",
       "      <th>PTF</th>\n",
       "    </tr>\n",
       "    <tr>\n",
       "      <th>DateTime</th>\n",
       "      <th></th>\n",
       "    </tr>\n",
       "  </thead>\n",
       "  <tbody>\n",
       "    <tr>\n",
       "      <th>2022-03-16 00:00:00</th>\n",
       "      <td>1745</td>\n",
       "    </tr>\n",
       "    <tr>\n",
       "      <th>2022-03-16 01:00:00</th>\n",
       "      <td>1745</td>\n",
       "    </tr>\n",
       "    <tr>\n",
       "      <th>2022-03-16 02:00:00</th>\n",
       "      <td>1745</td>\n",
       "    </tr>\n",
       "    <tr>\n",
       "      <th>2022-03-16 03:00:00</th>\n",
       "      <td>1745</td>\n",
       "    </tr>\n",
       "    <tr>\n",
       "      <th>2022-03-16 04:00:00</th>\n",
       "      <td>1745</td>\n",
       "    </tr>\n",
       "  </tbody>\n",
       "</table>\n",
       "</div>"
      ],
      "text/plain": [
       "                      PTF\n",
       "DateTime                 \n",
       "2022-03-16 00:00:00  1745\n",
       "2022-03-16 01:00:00  1745\n",
       "2022-03-16 02:00:00  1745\n",
       "2022-03-16 03:00:00  1745\n",
       "2022-03-16 04:00:00  1745"
      ]
     },
     "execution_count": 28,
     "metadata": {},
     "output_type": "execute_result"
    }
   ],
   "source": [
    "#%% PTF \n",
    "ptf_test = get_ptf(tomorrow, tomorrow)\n",
    "ptf_test.head()"
   ]
  },
  {
   "cell_type": "code",
   "execution_count": 29,
   "id": "c6503698",
   "metadata": {},
   "outputs": [
    {
     "data": {
      "text/html": [
       "<div>\n",
       "<style scoped>\n",
       "    .dataframe tbody tr th:only-of-type {\n",
       "        vertical-align: middle;\n",
       "    }\n",
       "\n",
       "    .dataframe tbody tr th {\n",
       "        vertical-align: top;\n",
       "    }\n",
       "\n",
       "    .dataframe thead th {\n",
       "        text-align: right;\n",
       "    }\n",
       "</style>\n",
       "<table border=\"1\" class=\"dataframe\">\n",
       "  <thead>\n",
       "    <tr style=\"text-align: right;\">\n",
       "      <th></th>\n",
       "      <th>KGUP</th>\n",
       "    </tr>\n",
       "    <tr>\n",
       "      <th>DateTime</th>\n",
       "      <th></th>\n",
       "    </tr>\n",
       "  </thead>\n",
       "  <tbody>\n",
       "    <tr>\n",
       "      <th>2022-03-16 00:00:00</th>\n",
       "      <td>28431.69</td>\n",
       "    </tr>\n",
       "    <tr>\n",
       "      <th>2022-03-16 01:00:00</th>\n",
       "      <td>26893.97</td>\n",
       "    </tr>\n",
       "    <tr>\n",
       "      <th>2022-03-16 02:00:00</th>\n",
       "      <td>26015.07</td>\n",
       "    </tr>\n",
       "    <tr>\n",
       "      <th>2022-03-16 03:00:00</th>\n",
       "      <td>25486.36</td>\n",
       "    </tr>\n",
       "    <tr>\n",
       "      <th>2022-03-16 04:00:00</th>\n",
       "      <td>25111.05</td>\n",
       "    </tr>\n",
       "  </tbody>\n",
       "</table>\n",
       "</div>"
      ],
      "text/plain": [
       "                         KGUP\n",
       "DateTime                     \n",
       "2022-03-16 00:00:00  28431.69\n",
       "2022-03-16 01:00:00  26893.97\n",
       "2022-03-16 02:00:00  26015.07\n",
       "2022-03-16 03:00:00  25486.36\n",
       "2022-03-16 04:00:00  25111.05"
      ]
     },
     "execution_count": 29,
     "metadata": {},
     "output_type": "execute_result"
    }
   ],
   "source": [
    "#%% KGÜP\n",
    "kgup_test = get_kgup(tomorrow, tomorrow)\n",
    "kgup_test.head()"
   ]
  },
  {
   "cell_type": "code",
   "execution_count": 30,
   "id": "121239a4",
   "metadata": {},
   "outputs": [
    {
     "data": {
      "text/html": [
       "<div>\n",
       "<style scoped>\n",
       "    .dataframe tbody tr th:only-of-type {\n",
       "        vertical-align: middle;\n",
       "    }\n",
       "\n",
       "    .dataframe tbody tr th {\n",
       "        vertical-align: top;\n",
       "    }\n",
       "\n",
       "    .dataframe thead th {\n",
       "        text-align: right;\n",
       "    }\n",
       "</style>\n",
       "<table border=\"1\" class=\"dataframe\">\n",
       "  <thead>\n",
       "    <tr style=\"text-align: right;\">\n",
       "      <th></th>\n",
       "      <th>EAK</th>\n",
       "    </tr>\n",
       "    <tr>\n",
       "      <th>DateTime</th>\n",
       "      <th></th>\n",
       "    </tr>\n",
       "  </thead>\n",
       "  <tbody>\n",
       "    <tr>\n",
       "      <th>2022-03-16 00:00:00</th>\n",
       "      <td>55083.84</td>\n",
       "    </tr>\n",
       "    <tr>\n",
       "      <th>2022-03-16 01:00:00</th>\n",
       "      <td>54814.73</td>\n",
       "    </tr>\n",
       "    <tr>\n",
       "      <th>2022-03-16 02:00:00</th>\n",
       "      <td>54688.23</td>\n",
       "    </tr>\n",
       "    <tr>\n",
       "      <th>2022-03-16 03:00:00</th>\n",
       "      <td>54651.95</td>\n",
       "    </tr>\n",
       "    <tr>\n",
       "      <th>2022-03-16 04:00:00</th>\n",
       "      <td>54651.79</td>\n",
       "    </tr>\n",
       "  </tbody>\n",
       "</table>\n",
       "</div>"
      ],
      "text/plain": [
       "                          EAK\n",
       "DateTime                     \n",
       "2022-03-16 00:00:00  55083.84\n",
       "2022-03-16 01:00:00  54814.73\n",
       "2022-03-16 02:00:00  54688.23\n",
       "2022-03-16 03:00:00  54651.95\n",
       "2022-03-16 04:00:00  54651.79"
      ]
     },
     "execution_count": 30,
     "metadata": {},
     "output_type": "execute_result"
    }
   ],
   "source": [
    "#%% EAK\n",
    "eak_test = get_eak(tomorrow, tomorrow)\n",
    "eak_test.head()"
   ]
  },
  {
   "cell_type": "code",
   "execution_count": 31,
   "id": "e5c19ac1",
   "metadata": {},
   "outputs": [],
   "source": [
    "#%% MERGING\n",
    "X_test = pd.merge(smf_test, wind_test, on=\"DateTime\", how=\"outer\")\n",
    "X_test = pd.merge(X_test, ptf_test, on=\"DateTime\", how=\"outer\")\n",
    "X_test = pd.merge(X_test, kgup_test, on=\"DateTime\", how=\"outer\")\n",
    "X_test = pd.merge(X_test, eak_test, on=\"DateTime\", how=\"outer\")\n",
    "\n",
    "X_test = X_test.reset_index(drop=False)\n",
    "\n",
    "X_test['hour'] = pd.DatetimeIndex(X_test['DateTime']).hour\n",
    "X_test['day'] = pd.DatetimeIndex(X_test['DateTime']).day\n",
    "X_test['month'] = pd.DatetimeIndex(X_test['DateTime']).month\n",
    "X_test['dayofweek'] = pd.DatetimeIndex(X_test['DateTime']).dayofweek\n",
    "\n",
    "X_test = X_test.set_index('DateTime')\n",
    "X_test = X_test.drop(['index'], axis = 1)"
   ]
  },
  {
   "cell_type": "code",
   "execution_count": 32,
   "id": "d4e39a62",
   "metadata": {},
   "outputs": [
    {
     "name": "stdout",
     "output_type": "stream",
     "text": [
      "(24, 9)\n",
      "(24, 9)\n"
     ]
    }
   ],
   "source": [
    "\"\"\"Analyzing missing values in values\"\"\"\n",
    "print(X_test.shape)\n",
    "X_test.isnull().sum()\n",
    "X_test = X_test.dropna(axis='rows')\n",
    "print(X_test.shape)"
   ]
  },
  {
   "cell_type": "code",
   "execution_count": 33,
   "id": "e9bb91f4",
   "metadata": {},
   "outputs": [
    {
     "name": "stdout",
     "output_type": "stream",
     "text": [
      "Index(['SMF', 'forecast', 'PTF', 'KGUP', 'EAK', 'hour', 'day', 'month',\n",
      "       'dayofweek'],\n",
      "      dtype='object')\n"
     ]
    }
   ],
   "source": [
    "\"\"\"Checking columns names\"\"\"\n",
    "print(X_test.columns)"
   ]
  },
  {
   "cell_type": "code",
   "execution_count": 34,
   "id": "b87b386a",
   "metadata": {},
   "outputs": [
    {
     "data": {
      "text/html": [
       "<div>\n",
       "<style scoped>\n",
       "    .dataframe tbody tr th:only-of-type {\n",
       "        vertical-align: middle;\n",
       "    }\n",
       "\n",
       "    .dataframe tbody tr th {\n",
       "        vertical-align: top;\n",
       "    }\n",
       "\n",
       "    .dataframe thead th {\n",
       "        text-align: right;\n",
       "    }\n",
       "</style>\n",
       "<table border=\"1\" class=\"dataframe\">\n",
       "  <thead>\n",
       "    <tr style=\"text-align: right;\">\n",
       "      <th></th>\n",
       "      <th>SMF</th>\n",
       "      <th>forecast</th>\n",
       "      <th>PTF</th>\n",
       "      <th>KGUP</th>\n",
       "      <th>EAK</th>\n",
       "      <th>hour</th>\n",
       "      <th>day</th>\n",
       "      <th>month</th>\n",
       "      <th>dayofweek</th>\n",
       "    </tr>\n",
       "    <tr>\n",
       "      <th>DateTime</th>\n",
       "      <th></th>\n",
       "      <th></th>\n",
       "      <th></th>\n",
       "      <th></th>\n",
       "      <th></th>\n",
       "      <th></th>\n",
       "      <th></th>\n",
       "      <th></th>\n",
       "      <th></th>\n",
       "    </tr>\n",
       "  </thead>\n",
       "  <tbody>\n",
       "    <tr>\n",
       "      <th>2022-03-16 00:00:00</th>\n",
       "      <td>1745.00</td>\n",
       "      <td>2281.000</td>\n",
       "      <td>1745</td>\n",
       "      <td>28431.69</td>\n",
       "      <td>55083.84</td>\n",
       "      <td>0</td>\n",
       "      <td>16</td>\n",
       "      <td>3</td>\n",
       "      <td>2</td>\n",
       "    </tr>\n",
       "    <tr>\n",
       "      <th>2022-03-16 01:00:00</th>\n",
       "      <td>1745.00</td>\n",
       "      <td>2169.730</td>\n",
       "      <td>1745</td>\n",
       "      <td>26893.97</td>\n",
       "      <td>54814.73</td>\n",
       "      <td>1</td>\n",
       "      <td>16</td>\n",
       "      <td>3</td>\n",
       "      <td>2</td>\n",
       "    </tr>\n",
       "    <tr>\n",
       "      <th>2022-03-16 02:00:00</th>\n",
       "      <td>1745.00</td>\n",
       "      <td>2054.942</td>\n",
       "      <td>1745</td>\n",
       "      <td>26015.07</td>\n",
       "      <td>54688.23</td>\n",
       "      <td>2</td>\n",
       "      <td>16</td>\n",
       "      <td>3</td>\n",
       "      <td>2</td>\n",
       "    </tr>\n",
       "    <tr>\n",
       "      <th>2022-03-16 03:00:00</th>\n",
       "      <td>1649.01</td>\n",
       "      <td>1925.210</td>\n",
       "      <td>1745</td>\n",
       "      <td>25486.36</td>\n",
       "      <td>54651.95</td>\n",
       "      <td>3</td>\n",
       "      <td>16</td>\n",
       "      <td>3</td>\n",
       "      <td>2</td>\n",
       "    </tr>\n",
       "    <tr>\n",
       "      <th>2022-03-16 04:00:00</th>\n",
       "      <td>1496.47</td>\n",
       "      <td>1811.305</td>\n",
       "      <td>1745</td>\n",
       "      <td>25111.05</td>\n",
       "      <td>54651.79</td>\n",
       "      <td>4</td>\n",
       "      <td>16</td>\n",
       "      <td>3</td>\n",
       "      <td>2</td>\n",
       "    </tr>\n",
       "    <tr>\n",
       "      <th>2022-03-16 05:00:00</th>\n",
       "      <td>1595.01</td>\n",
       "      <td>1709.818</td>\n",
       "      <td>1745</td>\n",
       "      <td>24991.35</td>\n",
       "      <td>54696.74</td>\n",
       "      <td>5</td>\n",
       "      <td>16</td>\n",
       "      <td>3</td>\n",
       "      <td>2</td>\n",
       "    </tr>\n",
       "    <tr>\n",
       "      <th>2022-03-16 06:00:00</th>\n",
       "      <td>1745.00</td>\n",
       "      <td>1618.848</td>\n",
       "      <td>1745</td>\n",
       "      <td>25333.37</td>\n",
       "      <td>55133.83</td>\n",
       "      <td>6</td>\n",
       "      <td>16</td>\n",
       "      <td>3</td>\n",
       "      <td>2</td>\n",
       "    </tr>\n",
       "    <tr>\n",
       "      <th>2022-03-16 07:00:00</th>\n",
       "      <td>1745.00</td>\n",
       "      <td>1542.408</td>\n",
       "      <td>1745</td>\n",
       "      <td>27253.09</td>\n",
       "      <td>57525.52</td>\n",
       "      <td>7</td>\n",
       "      <td>16</td>\n",
       "      <td>3</td>\n",
       "      <td>2</td>\n",
       "    </tr>\n",
       "    <tr>\n",
       "      <th>2022-03-16 08:00:00</th>\n",
       "      <td>1745.00</td>\n",
       "      <td>1429.673</td>\n",
       "      <td>1745</td>\n",
       "      <td>29639.92</td>\n",
       "      <td>59525.15</td>\n",
       "      <td>8</td>\n",
       "      <td>16</td>\n",
       "      <td>3</td>\n",
       "      <td>2</td>\n",
       "    </tr>\n",
       "    <tr>\n",
       "      <th>2022-03-16 09:00:00</th>\n",
       "      <td>1745.00</td>\n",
       "      <td>1337.497</td>\n",
       "      <td>1745</td>\n",
       "      <td>30776.44</td>\n",
       "      <td>60233.69</td>\n",
       "      <td>9</td>\n",
       "      <td>16</td>\n",
       "      <td>3</td>\n",
       "      <td>2</td>\n",
       "    </tr>\n",
       "  </tbody>\n",
       "</table>\n",
       "</div>"
      ],
      "text/plain": [
       "                         SMF  forecast   PTF      KGUP       EAK  hour  day  \\\n",
       "DateTime                                                                      \n",
       "2022-03-16 00:00:00  1745.00  2281.000  1745  28431.69  55083.84     0   16   \n",
       "2022-03-16 01:00:00  1745.00  2169.730  1745  26893.97  54814.73     1   16   \n",
       "2022-03-16 02:00:00  1745.00  2054.942  1745  26015.07  54688.23     2   16   \n",
       "2022-03-16 03:00:00  1649.01  1925.210  1745  25486.36  54651.95     3   16   \n",
       "2022-03-16 04:00:00  1496.47  1811.305  1745  25111.05  54651.79     4   16   \n",
       "2022-03-16 05:00:00  1595.01  1709.818  1745  24991.35  54696.74     5   16   \n",
       "2022-03-16 06:00:00  1745.00  1618.848  1745  25333.37  55133.83     6   16   \n",
       "2022-03-16 07:00:00  1745.00  1542.408  1745  27253.09  57525.52     7   16   \n",
       "2022-03-16 08:00:00  1745.00  1429.673  1745  29639.92  59525.15     8   16   \n",
       "2022-03-16 09:00:00  1745.00  1337.497  1745  30776.44  60233.69     9   16   \n",
       "\n",
       "                     month  dayofweek  \n",
       "DateTime                               \n",
       "2022-03-16 00:00:00      3          2  \n",
       "2022-03-16 01:00:00      3          2  \n",
       "2022-03-16 02:00:00      3          2  \n",
       "2022-03-16 03:00:00      3          2  \n",
       "2022-03-16 04:00:00      3          2  \n",
       "2022-03-16 05:00:00      3          2  \n",
       "2022-03-16 06:00:00      3          2  \n",
       "2022-03-16 07:00:00      3          2  \n",
       "2022-03-16 08:00:00      3          2  \n",
       "2022-03-16 09:00:00      3          2  "
      ]
     },
     "execution_count": 34,
     "metadata": {},
     "output_type": "execute_result"
    }
   ],
   "source": [
    "X_test.head(10)"
   ]
  },
  {
   "cell_type": "code",
   "execution_count": 35,
   "id": "d15e1f4c",
   "metadata": {},
   "outputs": [
    {
     "data": {
      "text/html": [
       "<div>\n",
       "<style scoped>\n",
       "    .dataframe tbody tr th:only-of-type {\n",
       "        vertical-align: middle;\n",
       "    }\n",
       "\n",
       "    .dataframe tbody tr th {\n",
       "        vertical-align: top;\n",
       "    }\n",
       "\n",
       "    .dataframe thead th {\n",
       "        text-align: right;\n",
       "    }\n",
       "</style>\n",
       "<table border=\"1\" class=\"dataframe\">\n",
       "  <thead>\n",
       "    <tr style=\"text-align: right;\">\n",
       "      <th></th>\n",
       "      <th>SMF</th>\n",
       "      <th>forecast</th>\n",
       "      <th>PTF</th>\n",
       "      <th>KGUP</th>\n",
       "      <th>EAK</th>\n",
       "      <th>hour</th>\n",
       "      <th>day</th>\n",
       "      <th>month</th>\n",
       "      <th>dayofweek</th>\n",
       "    </tr>\n",
       "    <tr>\n",
       "      <th>DateTime</th>\n",
       "      <th></th>\n",
       "      <th></th>\n",
       "      <th></th>\n",
       "      <th></th>\n",
       "      <th></th>\n",
       "      <th></th>\n",
       "      <th></th>\n",
       "      <th></th>\n",
       "      <th></th>\n",
       "    </tr>\n",
       "  </thead>\n",
       "  <tbody>\n",
       "    <tr>\n",
       "      <th>2022-03-16 14:00:00</th>\n",
       "      <td>1745.0</td>\n",
       "      <td>1205.283</td>\n",
       "      <td>1745</td>\n",
       "      <td>32024.33</td>\n",
       "      <td>60907.18</td>\n",
       "      <td>14</td>\n",
       "      <td>16</td>\n",
       "      <td>3</td>\n",
       "      <td>2</td>\n",
       "    </tr>\n",
       "    <tr>\n",
       "      <th>2022-03-16 15:00:00</th>\n",
       "      <td>1745.0</td>\n",
       "      <td>1220.778</td>\n",
       "      <td>1745</td>\n",
       "      <td>32097.27</td>\n",
       "      <td>60992.94</td>\n",
       "      <td>15</td>\n",
       "      <td>16</td>\n",
       "      <td>3</td>\n",
       "      <td>2</td>\n",
       "    </tr>\n",
       "    <tr>\n",
       "      <th>2022-03-16 16:00:00</th>\n",
       "      <td>1745.0</td>\n",
       "      <td>1181.835</td>\n",
       "      <td>1745</td>\n",
       "      <td>32306.71</td>\n",
       "      <td>60783.60</td>\n",
       "      <td>16</td>\n",
       "      <td>16</td>\n",
       "      <td>3</td>\n",
       "      <td>2</td>\n",
       "    </tr>\n",
       "    <tr>\n",
       "      <th>2022-03-16 17:00:00</th>\n",
       "      <td>1745.0</td>\n",
       "      <td>1031.835</td>\n",
       "      <td>1745</td>\n",
       "      <td>32866.01</td>\n",
       "      <td>60725.67</td>\n",
       "      <td>17</td>\n",
       "      <td>16</td>\n",
       "      <td>3</td>\n",
       "      <td>2</td>\n",
       "    </tr>\n",
       "    <tr>\n",
       "      <th>2022-03-16 18:00:00</th>\n",
       "      <td>1745.0</td>\n",
       "      <td>908.128</td>\n",
       "      <td>1745</td>\n",
       "      <td>32444.20</td>\n",
       "      <td>60709.06</td>\n",
       "      <td>18</td>\n",
       "      <td>16</td>\n",
       "      <td>3</td>\n",
       "      <td>2</td>\n",
       "    </tr>\n",
       "    <tr>\n",
       "      <th>2022-03-16 19:00:00</th>\n",
       "      <td>1745.0</td>\n",
       "      <td>910.817</td>\n",
       "      <td>1745</td>\n",
       "      <td>33448.16</td>\n",
       "      <td>60715.70</td>\n",
       "      <td>19</td>\n",
       "      <td>16</td>\n",
       "      <td>3</td>\n",
       "      <td>2</td>\n",
       "    </tr>\n",
       "    <tr>\n",
       "      <th>2022-03-16 20:00:00</th>\n",
       "      <td>1745.0</td>\n",
       "      <td>879.888</td>\n",
       "      <td>1745</td>\n",
       "      <td>32318.50</td>\n",
       "      <td>59814.04</td>\n",
       "      <td>20</td>\n",
       "      <td>16</td>\n",
       "      <td>3</td>\n",
       "      <td>2</td>\n",
       "    </tr>\n",
       "    <tr>\n",
       "      <th>2022-03-16 21:00:00</th>\n",
       "      <td>1745.0</td>\n",
       "      <td>866.712</td>\n",
       "      <td>1745</td>\n",
       "      <td>31686.29</td>\n",
       "      <td>59335.13</td>\n",
       "      <td>21</td>\n",
       "      <td>16</td>\n",
       "      <td>3</td>\n",
       "      <td>2</td>\n",
       "    </tr>\n",
       "    <tr>\n",
       "      <th>2022-03-16 22:00:00</th>\n",
       "      <td>1745.0</td>\n",
       "      <td>894.660</td>\n",
       "      <td>1745</td>\n",
       "      <td>31459.99</td>\n",
       "      <td>57483.65</td>\n",
       "      <td>22</td>\n",
       "      <td>16</td>\n",
       "      <td>3</td>\n",
       "      <td>2</td>\n",
       "    </tr>\n",
       "    <tr>\n",
       "      <th>2022-03-16 23:00:00</th>\n",
       "      <td>1745.0</td>\n",
       "      <td>890.605</td>\n",
       "      <td>1745</td>\n",
       "      <td>30570.63</td>\n",
       "      <td>57081.82</td>\n",
       "      <td>23</td>\n",
       "      <td>16</td>\n",
       "      <td>3</td>\n",
       "      <td>2</td>\n",
       "    </tr>\n",
       "  </tbody>\n",
       "</table>\n",
       "</div>"
      ],
      "text/plain": [
       "                        SMF  forecast   PTF      KGUP       EAK  hour  day  \\\n",
       "DateTime                                                                     \n",
       "2022-03-16 14:00:00  1745.0  1205.283  1745  32024.33  60907.18    14   16   \n",
       "2022-03-16 15:00:00  1745.0  1220.778  1745  32097.27  60992.94    15   16   \n",
       "2022-03-16 16:00:00  1745.0  1181.835  1745  32306.71  60783.60    16   16   \n",
       "2022-03-16 17:00:00  1745.0  1031.835  1745  32866.01  60725.67    17   16   \n",
       "2022-03-16 18:00:00  1745.0   908.128  1745  32444.20  60709.06    18   16   \n",
       "2022-03-16 19:00:00  1745.0   910.817  1745  33448.16  60715.70    19   16   \n",
       "2022-03-16 20:00:00  1745.0   879.888  1745  32318.50  59814.04    20   16   \n",
       "2022-03-16 21:00:00  1745.0   866.712  1745  31686.29  59335.13    21   16   \n",
       "2022-03-16 22:00:00  1745.0   894.660  1745  31459.99  57483.65    22   16   \n",
       "2022-03-16 23:00:00  1745.0   890.605  1745  30570.63  57081.82    23   16   \n",
       "\n",
       "                     month  dayofweek  \n",
       "DateTime                               \n",
       "2022-03-16 14:00:00      3          2  \n",
       "2022-03-16 15:00:00      3          2  \n",
       "2022-03-16 16:00:00      3          2  \n",
       "2022-03-16 17:00:00      3          2  \n",
       "2022-03-16 18:00:00      3          2  \n",
       "2022-03-16 19:00:00      3          2  \n",
       "2022-03-16 20:00:00      3          2  \n",
       "2022-03-16 21:00:00      3          2  \n",
       "2022-03-16 22:00:00      3          2  \n",
       "2022-03-16 23:00:00      3          2  "
      ]
     },
     "execution_count": 35,
     "metadata": {},
     "output_type": "execute_result"
    }
   ],
   "source": [
    "X_test.tail(10)"
   ]
  },
  {
   "cell_type": "code",
   "execution_count": 36,
   "id": "d33c63d6",
   "metadata": {},
   "outputs": [
    {
     "data": {
      "text/html": [
       "<div>\n",
       "<style scoped>\n",
       "    .dataframe tbody tr th:only-of-type {\n",
       "        vertical-align: middle;\n",
       "    }\n",
       "\n",
       "    .dataframe tbody tr th {\n",
       "        vertical-align: top;\n",
       "    }\n",
       "\n",
       "    .dataframe thead th {\n",
       "        text-align: right;\n",
       "    }\n",
       "</style>\n",
       "<table border=\"1\" class=\"dataframe\">\n",
       "  <thead>\n",
       "    <tr style=\"text-align: right;\">\n",
       "      <th></th>\n",
       "      <th>SMF</th>\n",
       "      <th>forecast</th>\n",
       "      <th>PTF</th>\n",
       "      <th>KGUP</th>\n",
       "      <th>EAK</th>\n",
       "      <th>hour</th>\n",
       "      <th>day</th>\n",
       "      <th>month</th>\n",
       "      <th>dayofweek</th>\n",
       "    </tr>\n",
       "    <tr>\n",
       "      <th>DateTime</th>\n",
       "      <th></th>\n",
       "      <th></th>\n",
       "      <th></th>\n",
       "      <th></th>\n",
       "      <th></th>\n",
       "      <th></th>\n",
       "      <th></th>\n",
       "      <th></th>\n",
       "      <th></th>\n",
       "    </tr>\n",
       "  </thead>\n",
       "  <tbody>\n",
       "    <tr>\n",
       "      <th>2022-03-16 19:00:00</th>\n",
       "      <td>1745.00</td>\n",
       "      <td>910.817</td>\n",
       "      <td>1745</td>\n",
       "      <td>33448.16</td>\n",
       "      <td>60715.70</td>\n",
       "      <td>19</td>\n",
       "      <td>16</td>\n",
       "      <td>3</td>\n",
       "      <td>2</td>\n",
       "    </tr>\n",
       "    <tr>\n",
       "      <th>2022-03-16 03:00:00</th>\n",
       "      <td>1649.01</td>\n",
       "      <td>1925.210</td>\n",
       "      <td>1745</td>\n",
       "      <td>25486.36</td>\n",
       "      <td>54651.95</td>\n",
       "      <td>3</td>\n",
       "      <td>16</td>\n",
       "      <td>3</td>\n",
       "      <td>2</td>\n",
       "    </tr>\n",
       "    <tr>\n",
       "      <th>2022-03-16 02:00:00</th>\n",
       "      <td>1745.00</td>\n",
       "      <td>2054.942</td>\n",
       "      <td>1745</td>\n",
       "      <td>26015.07</td>\n",
       "      <td>54688.23</td>\n",
       "      <td>2</td>\n",
       "      <td>16</td>\n",
       "      <td>3</td>\n",
       "      <td>2</td>\n",
       "    </tr>\n",
       "    <tr>\n",
       "      <th>2022-03-16 07:00:00</th>\n",
       "      <td>1745.00</td>\n",
       "      <td>1542.408</td>\n",
       "      <td>1745</td>\n",
       "      <td>27253.09</td>\n",
       "      <td>57525.52</td>\n",
       "      <td>7</td>\n",
       "      <td>16</td>\n",
       "      <td>3</td>\n",
       "      <td>2</td>\n",
       "    </tr>\n",
       "    <tr>\n",
       "      <th>2022-03-16 22:00:00</th>\n",
       "      <td>1745.00</td>\n",
       "      <td>894.660</td>\n",
       "      <td>1745</td>\n",
       "      <td>31459.99</td>\n",
       "      <td>57483.65</td>\n",
       "      <td>22</td>\n",
       "      <td>16</td>\n",
       "      <td>3</td>\n",
       "      <td>2</td>\n",
       "    </tr>\n",
       "    <tr>\n",
       "      <th>2022-03-16 08:00:00</th>\n",
       "      <td>1745.00</td>\n",
       "      <td>1429.673</td>\n",
       "      <td>1745</td>\n",
       "      <td>29639.92</td>\n",
       "      <td>59525.15</td>\n",
       "      <td>8</td>\n",
       "      <td>16</td>\n",
       "      <td>3</td>\n",
       "      <td>2</td>\n",
       "    </tr>\n",
       "    <tr>\n",
       "      <th>2022-03-16 00:00:00</th>\n",
       "      <td>1745.00</td>\n",
       "      <td>2281.000</td>\n",
       "      <td>1745</td>\n",
       "      <td>28431.69</td>\n",
       "      <td>55083.84</td>\n",
       "      <td>0</td>\n",
       "      <td>16</td>\n",
       "      <td>3</td>\n",
       "      <td>2</td>\n",
       "    </tr>\n",
       "    <tr>\n",
       "      <th>2022-03-16 13:00:00</th>\n",
       "      <td>1745.00</td>\n",
       "      <td>1186.198</td>\n",
       "      <td>1745</td>\n",
       "      <td>31564.78</td>\n",
       "      <td>60718.29</td>\n",
       "      <td>13</td>\n",
       "      <td>16</td>\n",
       "      <td>3</td>\n",
       "      <td>2</td>\n",
       "    </tr>\n",
       "    <tr>\n",
       "      <th>2022-03-16 04:00:00</th>\n",
       "      <td>1496.47</td>\n",
       "      <td>1811.305</td>\n",
       "      <td>1745</td>\n",
       "      <td>25111.05</td>\n",
       "      <td>54651.79</td>\n",
       "      <td>4</td>\n",
       "      <td>16</td>\n",
       "      <td>3</td>\n",
       "      <td>2</td>\n",
       "    </tr>\n",
       "    <tr>\n",
       "      <th>2022-03-16 23:00:00</th>\n",
       "      <td>1745.00</td>\n",
       "      <td>890.605</td>\n",
       "      <td>1745</td>\n",
       "      <td>30570.63</td>\n",
       "      <td>57081.82</td>\n",
       "      <td>23</td>\n",
       "      <td>16</td>\n",
       "      <td>3</td>\n",
       "      <td>2</td>\n",
       "    </tr>\n",
       "  </tbody>\n",
       "</table>\n",
       "</div>"
      ],
      "text/plain": [
       "                         SMF  forecast   PTF      KGUP       EAK  hour  day  \\\n",
       "DateTime                                                                      \n",
       "2022-03-16 19:00:00  1745.00   910.817  1745  33448.16  60715.70    19   16   \n",
       "2022-03-16 03:00:00  1649.01  1925.210  1745  25486.36  54651.95     3   16   \n",
       "2022-03-16 02:00:00  1745.00  2054.942  1745  26015.07  54688.23     2   16   \n",
       "2022-03-16 07:00:00  1745.00  1542.408  1745  27253.09  57525.52     7   16   \n",
       "2022-03-16 22:00:00  1745.00   894.660  1745  31459.99  57483.65    22   16   \n",
       "2022-03-16 08:00:00  1745.00  1429.673  1745  29639.92  59525.15     8   16   \n",
       "2022-03-16 00:00:00  1745.00  2281.000  1745  28431.69  55083.84     0   16   \n",
       "2022-03-16 13:00:00  1745.00  1186.198  1745  31564.78  60718.29    13   16   \n",
       "2022-03-16 04:00:00  1496.47  1811.305  1745  25111.05  54651.79     4   16   \n",
       "2022-03-16 23:00:00  1745.00   890.605  1745  30570.63  57081.82    23   16   \n",
       "\n",
       "                     month  dayofweek  \n",
       "DateTime                               \n",
       "2022-03-16 19:00:00      3          2  \n",
       "2022-03-16 03:00:00      3          2  \n",
       "2022-03-16 02:00:00      3          2  \n",
       "2022-03-16 07:00:00      3          2  \n",
       "2022-03-16 22:00:00      3          2  \n",
       "2022-03-16 08:00:00      3          2  \n",
       "2022-03-16 00:00:00      3          2  \n",
       "2022-03-16 13:00:00      3          2  \n",
       "2022-03-16 04:00:00      3          2  \n",
       "2022-03-16 23:00:00      3          2  "
      ]
     },
     "execution_count": 36,
     "metadata": {},
     "output_type": "execute_result"
    }
   ],
   "source": [
    "X_test.sample(10)"
   ]
  },
  {
   "cell_type": "code",
   "execution_count": 37,
   "id": "d65b5e26",
   "metadata": {},
   "outputs": [
    {
     "name": "stdout",
     "output_type": "stream",
     "text": [
      "{'learning_rate': 0.1, 'max_depth': 17, 'min_child_weight': 6, 'n_estimators': 25, 'num_leaves': 45, 'reg_lambda': 0.0}\n",
      "0.9555380368032436\n",
      "[1. 1. 1. 1. 0. 1. 1. 1. 1. 1. 1. 1. 1. 1. 1. 1. 1. 1. 1. 1. 1. 1. 1. 1.]\n"
     ]
    },
    {
     "name": "stderr",
     "output_type": "stream",
     "text": [
      "/Users/toygar/opt/anaconda3/lib/python3.8/site-packages/pandas/core/indexing.py:1637: SettingWithCopyWarning: \n",
      "A value is trying to be set on a copy of a slice from a DataFrame\n",
      "\n",
      "See the caveats in the documentation: https://pandas.pydata.org/pandas-docs/stable/user_guide/indexing.html#returning-a-view-versus-a-copy\n",
      "  self._setitem_single_block(indexer, value, name)\n"
     ]
    }
   ],
   "source": [
    "#%% Predictions\n",
    "X_test_scaled = sc_X.fit_transform(X_test)\n",
    "\n",
    "modeltest, result = LGBClassifier(X_train_append[aucscoreresults.index(max(list(aucscoreresults)))],\n",
    "                                  y_train_append[aucscoreresults.index(max(list(aucscoreresults)))].ravel(), X_test_scaled)\n",
    "\n",
    "print(result)\n",
    "result = pd.DataFrame(result)\n",
    "result_tomorrow = pd.merge(result, rng_test, left_index=True, right_index=True)\n",
    "result_tomorrow = result_tomorrow.set_index(\"DateTime\")\n",
    "result_tomorrow[\"Sistem Yönü\"] = 0\n",
    "for i in range(len(result_tomorrow)):\n",
    "    if result_tomorrow[0].iloc[i] == 1.0:\n",
    "        result_tomorrow[\"Sistem Yönü\"].iloc[i] = \"YAL\"\n",
    "    else:\n",
    "        result_tomorrow[\"Sistem Yönü\"].iloc[i] = \"YAT\"\n",
    "\n",
    "scorestest = modeltest.predict_proba(X_test_scaled)[:,1]\n",
    "result_tomorrow[\"Olasılık\"] = scorestest"
   ]
  },
  {
   "cell_type": "code",
   "execution_count": 38,
   "id": "cfed926f",
   "metadata": {},
   "outputs": [
    {
     "data": {
      "image/png": "[encoded data removed]",
      "text/plain": [
       "<Figure size 216x72 with 1 Axes>"
      ]
     },
     "metadata": {
      "needs_background": "light"
     },
     "output_type": "display_data"
    }
   ],
   "source": [
    "#%% EXPORTING PDF\n",
    "fig, ax =plt.subplots(figsize=(3,1))\n",
    "ax.axis('off')\n",
    "the_table = ax.table(cellText = result_tomorrow.values, rowLabels = result_tomorrow.index, loc='center', colLabels = result_tomorrow.columns, cellLoc='center')\n",
    "the_table.set_fontsize(15)\n",
    "plt.savefig(\"SystemDirection.pdf\", format=\"pdf\", bbox_inches = 'tight')"
   ]
  },
  {
   "cell_type": "code",
   "execution_count": 39,
   "id": "99991184",
   "metadata": {},
   "outputs": [],
   "source": [
    "#%% Sending Mail\n",
    "\n",
    "tomorrow_mail = (datetime.now() + timedelta(1)).strftime('%d-%m-%Y')\n",
    "\n",
    "def send_mail(date,username,password):\n",
    "        isTls=True\n",
    "        subject = \"{} Sistem Yön Raporu\".format(date)\n",
    "        text = \"Merhabalar,\\n\\n{} Sistem Yön Tahmini ektedir.\\n\\nSaygılarımla\\nToygar Ülgen\".format(date)\n",
    "        server = SMTP('smtp.office365.com', 587)\n",
    "        msg = MIMEMultipart()\n",
    "        msg['From'] = username\n",
    "        cc=[\"mustafa.cetin@nykenerji.com\"]\n",
    "        to=[\"cagri.levent@nykenerji.com\",\"bedriye.bicak@nykenerji.com\",\n",
    "            \"enes.ozturk@nykenerji.com\",\"dogukan.aktas@nykenerji.com\",\n",
    "            \"fatih.er@nykenerji.com\",\"merve.akca@nykenerji.com\"]\n",
    "        msg['To'] =','.join(to)\n",
    "        msg['Cc']=','.join(cc)\n",
    "        msg['Date'] = formatdate(localtime = True)\n",
    "        msg['Subject'] = subject\n",
    "        toAdress = to + cc    \n",
    "        msg.attach(MIMEText(text))\n",
    "        filenames = ['SystemDirection.pdf']\n",
    "        \n",
    "        for filename in filenames:\n",
    "            with open(filename, 'r') as part:\n",
    "                part = MIMEBase('application', \"octet-stream\")\n",
    "                part.set_payload(open(filename, \"rb\").read())\n",
    "                encoders.encode_base64(part)\n",
    "                part.add_header('Content-Disposition', 'attachment; filename={}\"'.format(filename))\n",
    "            msg.attach(part)\n",
    "\n",
    "        if isTls:\n",
    "            server.starttls()\n",
    "        server.login(username,password)\n",
    "        server.sendmail(username, toAdress, msg.as_string())\n",
    "        server.quit()\n",
    "\n",
    "send_mail(tomorrow_mail,\"toygar.ulgen@nykenerji.com\",\"Vub83937\")\n"
   ]
  }
 ],
 "metadata": {
  "kernelspec": {
   "display_name": "Python 3",
   "language": "python",
   "name": "python3"
  },
  "language_info": {
   "codemirror_mode": {
    "name": "ipython",
    "version": 3
   },
   "file_extension": ".py",
   "mimetype": "text/x-python",
   "name": "python",
   "nbconvert_exporter": "python",
   "pygments_lexer": "ipython3",
   "version": "3.8.8"
  }
 },
 "nbformat": 4,
 "nbformat_minor": 5
}
